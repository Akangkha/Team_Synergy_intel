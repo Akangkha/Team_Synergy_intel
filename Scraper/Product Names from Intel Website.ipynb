{
  "cells": [
    {
      "cell_type": "code",
      "execution_count": null,
      "metadata": {
        "colab": {
          "base_uri": "https://localhost:8080/"
        },
        "collapsed": true,
        "id": "J5TrZblqCyDt",
        "outputId": "6d900c37-6c5f-4c8b-950a-e6dfe5170e47"
      },
      "outputs": [],
      "source": [
        "!pip install selenium\n",
        "!apt update\n",
        "!apt install chromium-chromedriver"
      ]
    },
    {
      "cell_type": "code",
      "execution_count": null,
      "metadata": {
        "id": "wsl2nEmlEZef"
      },
      "outputs": [],
      "source": [
        "# Necessary Imports\n",
        "\n",
        "from selenium import webdriver\n",
        "from selenium.webdriver.chrome.service import Service\n",
        "from selenium.webdriver.chrome.options import Options\n",
        "from selenium.webdriver.common.by import By\n",
        "from bs4 import BeautifulSoup\n",
        "import pandas as pd\n",
        "import os\n",
        "import csv\n",
        "from random import uniform\n",
        "import re"
      ]
    },
    {
      "cell_type": "code",
      "execution_count": null,
      "metadata": {
        "id": "o5G12VMbEBKZ"
      },
      "outputs": [],
      "source": [
        "df_name = pd.read_csv(\"product_names.csv\")"
      ]
    },
    {
      "cell_type": "code",
      "execution_count": null,
      "metadata": {
        "colab": {
          "base_uri": "https://localhost:8080/"
        },
        "collapsed": true,
        "id": "363rZZ5hEndo",
        "outputId": "a43d9385-0824-46c4-8f89-3cd40ef2e6d2"
      },
      "outputs": [],
      "source": [
        "# Chromium Headless Options\n",
        "\n",
        "chrome_options = Options()\n",
        "chrome_options.add_argument(\"--headless\")\n",
        "chrome_options.add_argument(\"--no-sandbox\")\n",
        "chrome_options.add_argument(\"--disable-dev-shm-usage\")\n",
        "chrome_options.add_argument(\"--remote-debugging-port=9222\")\n",
        "\n",
        "driver = webdriver.Chrome(options=chrome_options)\n",
        "pattern = (\n",
        "    r\"https://www\\.intel\\.com/content/www/us/en/products/sku/.+/specifications\\.html\"\n",
        ")\n",
        "\n",
        "\n",
        "names_dict = {\"product_name\": [], \"product_fullName\": []}\n",
        "\n",
        "with open(\"product_names.csv\", mode=\"r\") as file:\n",
        "    csv_reader = csv.DictReader(file)\n",
        "    for row in csv_reader:\n",
        "        baseUrl = row[\"URL\"]\n",
        "        google_search = \"https://www.google.com/search?q=\" + baseUrl\n",
        "\n",
        "        driver.get(google_search)\n",
        "        content_div = driver.find_element(By.ID, \"rcnt\").get_attribute(\"outerHTML\")\n",
        "        page_html = BeautifulSoup(content_div, \"html.parser\")\n",
        "        a_tags = page_html.find_all(\"a\")\n",
        "\n",
        "        for tag in a_tags:\n",
        "            url = tag.get(\"href\")\n",
        "            if url is None:\n",
        "                continue\n",
        "            match = re.match(pattern, url)\n",
        "            if match:\n",
        "                driver.get(url)\n",
        "                processor_html = driver.find_element(\n",
        "                    By.ID, \"specs-1-0-0\"\n",
        "                ).get_attribute(\"outerHTML\")\n",
        "                processor_bs4 = BeautifulSoup(processor_html, \"html.parser\")\n",
        "                a = processor_bs4.find_all(\"div\", class_=\"col-xs-6 col-lg-6 tech-data\")\n",
        "                product_name = a[3].get_text().strip()\n",
        "\n",
        "                print(product_name)\n",
        "\n",
        "                names_dict[\"product_name\"].append(product_name)\n",
        "                names_dict[\"product_fullName\"].append(baseUrl)\n",
        "\n",
        "        driver.implicitly_wait(5)\n",
        "\n",
        "\n",
        "df = pd.DataFrame(names_dict)\n",
        "while True:\n",
        "    if os.path.isfile(f\"./product_names/{baseUrl}.csv\"):\n",
        "        baseUrl = baseUrl + \"-\" + str(int(uniform(1, 100)))\n",
        "    else:\n",
        "        break\n",
        "csv_filename = f\"./product_names/{baseUrl}.csv\"\n",
        "df.to_csv(csv_filename, index=False)\n",
        "print(f\"Data saved to {csv_filename}\")"
      ]
    },
    {
      "cell_type": "markdown",
      "metadata": {
        "id": "nyA_hjj6wBEC"
      },
      "source": []
    }
  ],
  "metadata": {
    "colab": {
      "provenance": []
    },
    "kernelspec": {
      "display_name": "Python 3",
      "name": "python3"
    },
    "language_info": {
      "name": "python"
    }
  },
  "nbformat": 4,
  "nbformat_minor": 0
}
