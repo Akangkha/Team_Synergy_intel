{
  "cells": [
    {
      "cell_type": "code",
      "execution_count": 1,
      "metadata": {
        "execution": {
          "iopub.execute_input": "2024-07-06T06:00:41.564795Z",
          "iopub.status.busy": "2024-07-06T06:00:41.564375Z",
          "iopub.status.idle": "2024-07-06T06:00:47.496208Z",
          "shell.execute_reply": "2024-07-06T06:00:47.495446Z",
          "shell.execute_reply.started": "2024-07-06T06:00:41.564763Z"
        },
        "id": "gtNW7GKpid96",
        "trusted": true
      },
      "outputs": [],
      "source": [
        "#importing the libraries\n",
        "import pandas as pd\n",
        "import numpy as np\n",
        "from sklearn import metrics\n",
        "import transformers\n",
        "import torch\n",
        "from torch.utils.data import Dataset, DataLoader, RandomSampler, SequentialSampler\n",
        "from transformers import BertTokenizer, BertModel, BertConfig"
      ]
    },
    {
      "cell_type": "code",
      "execution_count": 2,
      "metadata": {
        "execution": {
          "iopub.execute_input": "2024-07-06T06:00:49.281266Z",
          "iopub.status.busy": "2024-07-06T06:00:49.280568Z",
          "iopub.status.idle": "2024-07-06T06:00:49.285765Z",
          "shell.execute_reply": "2024-07-06T06:00:49.284790Z",
          "shell.execute_reply.started": "2024-07-06T06:00:49.281229Z"
        },
        "id": "uB_LKRPCkTmj",
        "trusted": true
      },
      "outputs": [],
      "source": [
        "#model to run on cuda\n",
        "from torch import cuda\n",
        "device = 'cuda' if cuda.is_available() else 'cpu'"
      ]
    },
    {
      "cell_type": "code",
      "execution_count": 4,
      "metadata": {
        "id": "tXWX3HSui3ft",
        "trusted": true
      },
      "outputs": [],
      "source": [
        "df= pd.read_csv('/content/userrevfinaldoc.csv')"
      ]
    },
    {
      "cell_type": "code",
      "execution_count": null,
      "metadata": {
        "id": "gGzCwpKE5OyE",
        "trusted": true
      },
      "outputs": [],
      "source": [
        "df = pd.read_csv('/content/product1.csv', encoding='latin-1') # Try 'latin-1' encoding first"
      ]
    },
    {
      "cell_type": "code",
      "execution_count": null,
      "metadata": {
        "colab": {
          "base_uri": "https://localhost:8080/",
          "height": 736
        },
        "id": "M34tcm8X9n_V",
        "outputId": "81ce9e29-a84b-45aa-f71f-1ed054d0fff7",
        "trusted": true
      },
      "outputs": [],
      "source": [
        "df\n"
      ]
    },
    {
      "cell_type": "code",
      "execution_count": null,
      "metadata": {
        "colab": {
          "base_uri": "https://localhost:8080/",
          "height": 206
        },
        "id": "nQliSCZfwE-5",
        "outputId": "825327e2-9dff-465d-f6d8-7c602c1dd240"
      },
      "outputs": [],
      "source": [
        "# keeping text cleaned text and review_rating of df and rest drop\n",
        "\n",
        "df = df[['text','cleaned_text', 'review_rating']]\n",
        "df.head()\n"
      ]
    },
    {
      "cell_type": "code",
      "execution_count": null,
      "metadata": {
        "colab": {
          "base_uri": "https://localhost:8080/"
        },
        "id": "yfJHM2S6s7Vi",
        "outputId": "70861ca0-63c4-44e1-b855-3f45bb2fd3b3",
        "trusted": true
      },
      "outputs": [],
      "source": [
        "#convert positive to 1 and negative to 0\n",
        "\n",
        "df['review_rating'] = df['review_rating'].apply(lambda x: 1 if x == 'positive' else 0)\n"
      ]
    },
    {
      "cell_type": "code",
      "execution_count": null,
      "metadata": {
        "colab": {
          "base_uri": "https://localhost:8080/"
        },
        "id": "t0REcaIvtH5Z",
        "outputId": "d653ed46-3969-4ede-b690-58f0d23c5cde",
        "trusted": true
      },
      "outputs": [],
      "source": [
        "df['review_rating'].value_counts()\n"
      ]
    },
    {
      "cell_type": "code",
      "execution_count": 10,
      "metadata": {
        "colab": {
          "base_uri": "https://localhost:8080/",
          "height": 472
        },
        "id": "k8ncyzcExfvD",
        "outputId": "e20323b9-5b07-47e9-9e9e-63737333c7f6"
      },
      "outputs": [
        {
          "data": {
            "image/png": "[encoded data removed]",
            "text/plain": [
              "<Figure size 640x480 with 1 Axes>"
            ]
          },
          "metadata": {},
          "output_type": "display_data"
        }
      ],
      "source": [
        "import matplotlib.pyplot as plt\n",
        "\n",
        "# Get the counts of each review rating\n",
        "rating_counts = df['review_rating'].value_counts()\n",
        "\n",
        "# Get the names of each review rating\n",
        "rating_names = rating_counts.index.to_list()\n",
        "\n",
        "# Create a bar chart\n",
        "plt.bar(rating_names, rating_counts)\n",
        "\n",
        "# Add a title and labels\n",
        "plt.title('Review Ratings')\n",
        "plt.xlabel('Rating')\n",
        "plt.ylabel('Count')\n",
        "\n",
        "# Show the plot\n",
        "plt.show()\n"
      ]
    },
    {
      "cell_type": "code",
      "execution_count": 11,
      "metadata": {
        "id": "MvUdh2X4johd",
        "trusted": true
      },
      "outputs": [],
      "source": [
        "from nltk.tokenize import word_tokenize\n"
      ]
    },
    {
      "cell_type": "code",
      "execution_count": null,
      "metadata": {
        "colab": {
          "base_uri": "https://localhost:8080/",
          "height": 572
        },
        "id": "AhhOp4SVyYaL",
        "outputId": "c09b9e20-4440-479c-d7c6-c5014aa1e8aa"
      },
      "outputs": [],
      "source": [
        "#checking the word lenth using box plot\n",
        "df[\"Words Per Review\"] = df[\"text\"].str.split().apply(len)\n",
        "df.boxplot(\"Words Per Review\", by=\"review_rating\", grid=False)\n",
        "plt.suptitle(\"\")\n",
        "plt.xlabel(\"\")\n",
        "plt.show()"
      ]
    },
    {
      "cell_type": "code",
      "execution_count": null,
      "metadata": {
        "colab": {
          "base_uri": "https://localhost:8080/",
          "height": 310,
          "referenced_widgets": [
            "a33ec9b968fd49f1860f87114090a9d4",
            "1b83dce9819545dda9b0f0594648adf7",
            "f3f5e898a5324477b579237a32ba6da1",
            "b300e494079a42558a448c0b59196615",
            "1176f00fd9c94f88bf27e53b4908f121",
            "a0a876de6c6e4137b31d48f9b5a0bc54",
            "e667d38b7df14a42a86147090bf17491",
            "9ac5dde74e784145a9d406f542a4c896",
            "4157ae2372e447718a9fe0224280eb90",
            "33d3fc185e5c46269231cf294f98caf6",
            "275ca151c6004efbb6ee093ec59b0705",
            "8e59aa1d212a458fa91e14426b76d245",
            "1d2e915efe5e409fad3b2bd1cbfed666",
            "01fc6d6baf2243fb90e1f53542f7c868",
            "7729cb82eff04ddb98f224df6b02fe50",
            "aa26072a222e4f40bdc576f667b15ced",
            "c68466c7d4cf4eaaa11029c92f3ebdcc",
            "a3e129125fc84bdaaa95d880bcf68d24",
            "475a89221a00423493f28bde417009f2",
            "bf911c1385584911be1dfe797360cb1c",
            "ea82612a379148798807979f893159f0",
            "94bef5f904d04a91a8980485432d9a76",
            "3282efd21ef14500bec12545968a4309",
            "8e89d8438b6c4868ad215658aaf5ea5c",
            "270c148a00dd4832be4750eb51b8dcc7",
            "eaafd6eeb9ca4381939e718aa4472ef4",
            "958cc00ed9d045678e35051d9f75e57f",
            "2f09da596f9c4a39bedc48051aa5bd3f",
            "0901e5d0644e4157b5cb104ae342f9a3",
            "2f9e57265ce7402ebef20e56234d38e3",
            "2e0ddeda3f9a48669ed20c2f0b46ce94",
            "16aca3975a4a4c53ba4eff28f53428ce",
            "08c82dd671b749a5a6c786188d5be41f",
            "8ce87d4e69424de59910a66188cc5b6b",
            "e5f5c42b14df4639806ac14d120392c1",
            "ff1c995ecf51449da8c574d11f0161ab",
            "6cdc97f7d507489c9aa27acdd98ee4fb",
            "67135e1689c94f9992a04419f1e6f36b",
            "f46c320706c24dc985b6d2222dda1f9c",
            "ee8f7b30aafb408a82bcc091359c4e8b",
            "0877f3b502e144b4842d41589fd7e56d",
            "67690abc236e4bb385c021784cda408b",
            "a550261eb4574520b27ede3d658818df",
            "23263fbe60e64862a63642b0dca6987f"
          ]
        },
        "execution": {
          "iopub.execute_input": "2024-07-06T06:04:06.185885Z",
          "iopub.status.busy": "2024-07-06T06:04:06.185532Z",
          "iopub.status.idle": "2024-07-06T06:04:06.728460Z",
          "shell.execute_reply": "2024-07-06T06:04:06.727536Z",
          "shell.execute_reply.started": "2024-07-06T06:04:06.185857Z"
        },
        "id": "IDoCOilvkY4i",
        "outputId": "7f52ce3d-e72a-44ed-831d-258923ccddc9",
        "trusted": true
      },
      "outputs": [],
      "source": [
        "#setting parameter for tokeniztion\n",
        "MAX_LEN = 100\n",
        "TRAIN_BATCH_SIZE = 9\n",
        "VALID_BATCH_SIZE = 9\n",
        "EPOCHS = 5\n",
        "LEARNING_RATE = 3e-05\n",
        "tokenizer = BertTokenizer.from_pretrained('bert-base-uncased')"
      ]
    },
    {
      "cell_type": "code",
      "execution_count": 22,
      "metadata": {
        "id": "k4aOo9fekD1_",
        "trusted": true
      },
      "outputs": [],
      "source": [
        "#defining class of tokenizer\n",
        "class CustomDataset(Dataset):\n",
        "    def __init__(self, Tokenizer, dataframe, max_len):\n",
        "        self.tokenizer = Tokenizer\n",
        "        self.data = dataframe\n",
        "        self.text = dataframe.cleaned_text\n",
        "        self.target = self.data.review_rating\n",
        "        self.max_len = max_len\n",
        "\n",
        "    def __len__(self):\n",
        "        return len(self.text)\n",
        "\n",
        "    def __getitem__(self, index):\n",
        "        text = str(self.text[index])\n",
        "        text = \" \".join(text.split())\n",
        "        inputs = self.tokenizer.encode_plus(\n",
        "            text = text,\n",
        "            truncation = None,\n",
        "            add_special_tokens=True,\n",
        "            max_length=self.max_len,\n",
        "            pad_to_max_length=True,\n",
        "            return_token_type_ids=True\n",
        "        )\n",
        "        ids = inputs['input_ids']\n",
        "        mask = inputs['attention_mask']\n",
        "        token_type_ids = inputs[\"token_type_ids\"]\n",
        "        return {\n",
        "            'ids': torch.tensor(ids, dtype=torch.long),\n",
        "            'mask': torch.tensor(mask, dtype=torch.long),\n",
        "            'token_type_ids': torch.tensor(token_type_ids, dtype=torch.long),\n",
        "            'targets': torch.tensor(self.target[index], dtype=torch.float)\n",
        "        }"
      ]
    },
    {
      "cell_type": "code",
      "execution_count": 17,
      "metadata": {
        "id": "IjGBt-k9sTbD",
        "trusted": true
      },
      "outputs": [],
      "source": [
        "#split dataset df\n",
        "\n",
        "from sklearn.model_selection import train_test_split\n",
        "\n",
        "train_df, test_df = train_test_split(df, test_size=0.2, random_state=32)\n"
      ]
    },
    {
      "cell_type": "code",
      "execution_count": null,
      "metadata": {
        "colab": {
          "base_uri": "https://localhost:8080/",
          "height": 423
        },
        "id": "MAijUO-8-Kly",
        "outputId": "fc44ae2a-2e45-453b-c04e-2469729bfaf3",
        "trusted": true
      },
      "outputs": [],
      "source": [
        "test_df = test_df.reset_index(drop=True)\n",
        "test_df"
      ]
    },
    {
      "cell_type": "code",
      "execution_count": null,
      "metadata": {
        "colab": {
          "base_uri": "https://localhost:8080/",
          "height": 423
        },
        "id": "pLnQSLcX-Arh",
        "outputId": "6d8f4ccb-c432-433a-bcbc-b91ef73074fe",
        "trusted": true
      },
      "outputs": [],
      "source": [
        "train_df = train_df.reset_index(drop=True)\n",
        "train_df"
      ]
    },
    {
      "cell_type": "code",
      "execution_count": 23,
      "metadata": {
        "id": "yvfjJIVqsb8Y",
        "trusted": true
      },
      "outputs": [],
      "source": [
        "training = CustomDataset(tokenizer,train_df, MAX_LEN)\n",
        "testing = CustomDataset(tokenizer, test_df, MAX_LEN)"
      ]
    },
    {
      "cell_type": "code",
      "execution_count": 24,
      "metadata": {
        "id": "UWUbEpt7s1Ow",
        "trusted": true
      },
      "outputs": [],
      "source": [
        "train_params = {'batch_size': TRAIN_BATCH_SIZE,\n",
        "                'shuffle': True,\n",
        "                'num_workers': 0\n",
        "                }\n",
        "\n",
        "test_params = {'batch_size': VALID_BATCH_SIZE,\n",
        "                'shuffle': True,\n",
        "                'num_workers': 0}"
      ]
    },
    {
      "cell_type": "code",
      "execution_count": 25,
      "metadata": {
        "id": "vNMFw_aBtofE",
        "trusted": true
      },
      "outputs": [],
      "source": [
        "training_loader = DataLoader(training, **train_params, drop_last = True)\n",
        "\n",
        "testing_loader=DataLoader(testing, **test_params, drop_last = True)"
      ]
    },
    {
      "cell_type": "code",
      "execution_count": 26,
      "metadata": {
        "id": "SnhBip6Qt__t",
        "trusted": true
      },
      "outputs": [],
      "source": [
        "def extract_hidden_states(batch):\n",
        "\n",
        "    # Place model inputs on the GPU and convert them to Pytorch tensors.\n",
        "    inputs = {k:torch.tensor(v).to(device) for k,v in batch.items()\n",
        "              if k in tokenizer.model_input_names}\n",
        "    # Extract last hidden states\n",
        "    with torch.no_grad():\n",
        "        last_hidden_state = model(**inputs).last_hidden_state\n",
        "    # Return vector for [CLS] token\n",
        "    return {\"hidden_state\": last_hidden_state[:,0].cpu().numpy().reshape(-1, 768)}"
      ]
    },
    {
      "cell_type": "code",
      "execution_count": 27,
      "metadata": {
        "id": "4Q4MChT1uGwL",
        "trusted": true
      },
      "outputs": [],
      "source": [
        "from transformers import AutoModel"
      ]
    },
    {
      "cell_type": "code",
      "execution_count": null,
      "metadata": {
        "id": "63YfnOR5uKoA",
        "trusted": true
      },
      "outputs": [],
      "source": [
        "#model_ckpt = \"distilbert-base-uncased\"\n",
        "model_ckpt = \"distilbert-base-uncased\"\n",
        "device = torch.device(\"cuda\" if torch.cuda.is_available() else \"cpu\")\n",
        "model = AutoModel.from_pretrained(model_ckpt).to(device)"
      ]
    },
    {
      "cell_type": "markdown",
      "metadata": {
        "id": "DxjTeNAOzpjM"
      },
      "source": [
        "#BERT MODEL CREATION"
      ]
    },
    {
      "cell_type": "code",
      "execution_count": null,
      "metadata": {
        "colab": {
          "base_uri": "https://localhost:8080/",
          "height": 864,
          "referenced_widgets": [
            "fde4e15eb3c14d6fb5216d0663090565",
            "ab41efd73ced436394aab8d9e0e63416",
            "851556149ac4472ea82fc3fe56882d7b",
            "4362ace0bcf94d52b865660906b744cb",
            "93963d2ea25f4ee0b7ddb0a2be6b9668",
            "ab77786896034702824778a5a29b1d0d",
            "b999ac601e7a4591842df50d479e0958",
            "a7733f1fc5ad464db8401bfe8c80ef11",
            "051432810e484eb6bc79d44d215d5090",
            "9c51c5a13e814fefa00744ba1ea5db37",
            "744d9813b8b54de99be1549a2f1f1e35"
          ]
        },
        "id": "Gv07Hp-puU5c",
        "outputId": "d769ca18-b602-4e89-81df-06072b43eca7",
        "trusted": true
      },
      "outputs": [],
      "source": [
        "class BERTClass(torch.nn.Module):\n",
        "    def __init__(self):\n",
        "        super(BERTClass, self).__init__()\n",
        "        self.l1 = transformers.BertModel.from_pretrained('bert-base-uncased')\n",
        "        self.l2 = torch.nn.Dropout(0.5)\n",
        "        self.l3 = torch.nn.Linear(768, 2)\n",
        "\n",
        "    def forward(self, ids, mask, token_type_ids):\n",
        "        _, output_1= self.l1(ids, attention_mask = mask, token_type_ids = token_type_ids, return_dict=False)\n",
        "        output_2 = self.l2(output_1)\n",
        "        output = self.l3(output_2)\n",
        "        return output\n",
        "\n",
        "model = BERTClass()\n",
        "model.to(device)"
      ]
    },
    {
      "cell_type": "code",
      "execution_count": null,
      "metadata": {
        "colab": {
          "base_uri": "https://localhost:8080/"
        },
        "id": "QnTCBkQ9uafy",
        "outputId": "86f1e222-3226-43f1-cedf-ce6f8e897a3d",
        "trusted": true
      },
      "outputs": [],
      "source": [
        "#Introducing adaptive weights\n",
        "import torch\n",
        "from collections import Counter\n",
        "\n",
        "class_counts = Counter(df['review_rating'])\n",
        "print(\"Class Counts:\", class_counts)\n",
        "\n",
        "total_samples = len(df['review_rating'])\n",
        "class_weights = {class_label: total_samples / count for class_label, count in class_counts.items()}\n",
        "print(\"Class Weights:\", class_weights)\n",
        "\n",
        "weights_tensor = torch.tensor([class_weights[i] for i in range(len(class_weights))], dtype=torch.float).to(device)\n",
        "print(\"Weights Tensor:\", weights_tensor)"
      ]
    },
    {
      "cell_type": "code",
      "execution_count": 31,
      "metadata": {
        "id": "ao0pqhAludHI",
        "trusted": true
      },
      "outputs": [],
      "source": [
        "def loss_fn(outputs, targets):\n",
        "    return torch.nn.CrossEntropyLoss(weight = weights_tensor)(outputs, targets.long())"
      ]
    },
    {
      "cell_type": "code",
      "execution_count": 32,
      "metadata": {
        "id": "LLCFPEgBuliP",
        "trusted": true
      },
      "outputs": [],
      "source": [
        "optimizer = torch.optim.Adam(params =  model.parameters(), lr=LEARNING_RATE)"
      ]
    },
    {
      "cell_type": "code",
      "execution_count": 33,
      "metadata": {
        "id": "VG6G37kLun-Q",
        "trusted": true
      },
      "outputs": [],
      "source": [
        "#training function defined\n",
        "import torch.nn as nn\n",
        "from tqdm import tqdm\n",
        "def train(epoch):\n",
        "    model.train()\n",
        "    train_acc = 0\n",
        "    for _,data in enumerate(tqdm(training_loader, 0)):\n",
        "        ids = data['ids'].to(device, dtype = torch.long)\n",
        "        mask = data['mask'].to(device, dtype = torch.long)\n",
        "        token_type_ids = data['token_type_ids'].to(device, dtype = torch.long)\n",
        "        targets = data['targets'].to(device, dtype = torch.float)\n",
        "\n",
        "        outputs = model(ids, mask, token_type_ids)\n",
        "\n",
        "        optimizer.zero_grad()\n",
        "        loss = loss_fn(outputs, targets)\n",
        "        if _%5000==0:\n",
        "            print(f'Epoch: {epoch}, Loss:  {loss.item()}')\n",
        "\n",
        "        optimizer.zero_grad()\n",
        "        loss.backward()\n",
        "        optimizer.step()"
      ]
    },
    {
      "cell_type": "code",
      "execution_count": null,
      "metadata": {
        "colab": {
          "base_uri": "https://localhost:8080/"
        },
        "id": "p3xRK4leupn1",
        "outputId": "e31de74f-9e5f-41af-f6da-0947230ffcef",
        "trusted": true
      },
      "outputs": [],
      "source": [
        "for epoch in range(EPOCHS):\n",
        "    train(epoch)"
      ]
    },
    {
      "cell_type": "code",
      "execution_count": 35,
      "metadata": {
        "id": "NN5TgqchWOUF",
        "trusted": true
      },
      "outputs": [],
      "source": [
        "#test function defined\n",
        "from torch import nn\n",
        "def validation(epoch):\n",
        "    model.eval()\n",
        "    fin_targets=[]\n",
        "    fin_outputs=[]\n",
        "    with torch.no_grad():\n",
        "        for _, data in enumerate(tqdm(testing_loader, 0)):\n",
        "            ids = data['ids'].to(device, dtype = torch.long)\n",
        "            mask = data['mask'].to(device, dtype = torch.long)\n",
        "            token_type_ids = data['token_type_ids'].to(device, dtype = torch.long)\n",
        "            targets = data['targets'].to(device, dtype = torch.float)\n",
        "            outputs = model(ids, mask, token_type_ids)\n",
        "            predictions = torch.argmax(nn.functional.softmax(outputs, dim=1), dim = 1)\n",
        "            fin_targets.extend(targets.cpu().detach().numpy().tolist())\n",
        "            fin_outputs.extend(predictions.cpu().detach().numpy().tolist())\n",
        "    return fin_outputs, fin_targets"
      ]
    },
    {
      "cell_type": "code",
      "execution_count": null,
      "metadata": {
        "colab": {
          "base_uri": "https://localhost:8080/"
        },
        "id": "9eJiTU1OWclg",
        "outputId": "1b5deab4-7d79-49a3-b4c8-93fd32663e57",
        "trusted": true
      },
      "outputs": [],
      "source": [
        "#Classification Report\n",
        "from sklearn.metrics import classification_report, confusion_matrix\n",
        "for epoch in range(1,10):\n",
        "    outputs, targets = validation(epoch)\n",
        "    print(classification_report(outputs, targets))\n",
        "    accuracy = metrics.accuracy_score(targets, outputs)\n",
        "    f1_score_micro = metrics.f1_score(targets, outputs, average='micro')\n",
        "    f1_score_macro = metrics.f1_score(targets, outputs, average='macro')\n",
        "    print(f\"Accuracy Score = {accuracy}\")\n",
        "    print(f\"F1 Score (Micro) = {f1_score_micro}\")\n",
        "    print(f\"F1 Score (Macro) = {f1_score_macro}\")"
      ]
    },
    {
      "cell_type": "code",
      "execution_count": null,
      "metadata": {
        "colab": {
          "base_uri": "https://localhost:8080/"
        },
        "id": "qeQ3BjKy2uPA",
        "outputId": "5e0ce585-1196-413e-d830-fad0dd049047",
        "trusted": true
      },
      "outputs": [],
      "source": [
        "from sklearn.metrics import confusion_matrix\n",
        "\n",
        "# Assuming you have true labels (y_true) and predicted labels (y_pred)\n",
        "cm = confusion_matrix(targets, outputs)\n",
        "\n",
        "\n",
        "cm"
      ]
    },
    {
      "cell_type": "code",
      "execution_count": 61,
      "metadata": {
        "colab": {
          "base_uri": "https://localhost:8080/",
          "height": 472
        },
        "id": "H859ElWN5DTU",
        "outputId": "5291263e-5905-43af-dc76-a84bb170ebc6"
      },
      "outputs": [
        {
          "data": {
            "image/png": "[encoded data removed]",
            "text/plain": [
              "<Figure size 640x480 with 2 Axes>"
            ]
          },
          "metadata": {},
          "output_type": "display_data"
        }
      ],
      "source": [
        "\n",
        "# Create a heatmap visualization of the confusion matrix\n",
        "sns.heatmap(cm, annot=True, fmt=\"d\")\n",
        "\n",
        "# Add labels and title\n",
        "plt.xlabel(\"Predicted\")\n",
        "plt.ylabel(\"True\")\n",
        "plt.title(\"Confusion Matrix\")\n",
        "\n",
        "# Show the plot\n",
        "plt.show()\n"
      ]
    },
    {
      "cell_type": "code",
      "execution_count": null,
      "metadata": {
        "id": "eVHtoqhhuw_w",
        "trusted": true
      },
      "outputs": [],
      "source": [
        "#saving model\n",
        "torch.save(model.state_dict(), \"intel_model.pt\")\n"
      ]
    },
    {
      "cell_type": "markdown",
      "metadata": {
        "id": "RhZbLIaT50Ub"
      },
      "source": [
        "#Using fine tuned BERT model to predict sentiment of technical review"
      ]
    },
    {
      "cell_type": "code",
      "execution_count": null,
      "metadata": {
        "id": "onkfFcgTuw_x",
        "trusted": true
      },
      "outputs": [],
      "source": [
        "df1=pd.read_csv(\"/kaggle/input/topredict/tech2revclean.csv\")"
      ]
    },
    {
      "cell_type": "code",
      "execution_count": null,
      "metadata": {
        "execution": {
          "iopub.execute_input": "2024-07-06T06:01:16.041140Z",
          "iopub.status.busy": "2024-07-06T06:01:16.040788Z",
          "iopub.status.idle": "2024-07-06T06:01:19.464088Z",
          "shell.execute_reply": "2024-07-06T06:01:19.463100Z",
          "shell.execute_reply.started": "2024-07-06T06:01:16.041112Z"
        },
        "id": "Erl4Oc8xuw_1",
        "trusted": true
      },
      "outputs": [],
      "source": [
        "#loading fine tuned BERT\n",
        "import torch\n",
        "\n",
        "# Path to your saved fine-tuned BERT model (replace with your actual path)\n",
        "model_path = \"/kaggle/input/model-intel/intel_model.pt\"\n",
        "\n",
        "# Load the fine-tuned model using torch.load\n",
        "model = torch.load(model_path)\n",
        "\n"
      ]
    },
    {
      "cell_type": "code",
      "execution_count": null,
      "metadata": {
        "colab": {
          "referenced_widgets": [
            "f174184a347a413789a7f4601e5f3a8f",
            "d878240323a640c3adccab50e7531554"
          ]
        },
        "execution": {
          "iopub.execute_input": "2024-07-06T06:02:03.392035Z",
          "iopub.status.busy": "2024-07-06T06:02:03.390894Z",
          "iopub.status.idle": "2024-07-06T06:02:06.610478Z",
          "shell.execute_reply": "2024-07-06T06:02:06.609555Z",
          "shell.execute_reply.started": "2024-07-06T06:02:03.391994Z"
        },
        "id": "iIbvOeBnuw_1",
        "outputId": "446bb6ea-68a5-48b8-9ae7-19cd76856a5e",
        "trusted": true
      },
      "outputs": [],
      "source": [
        "import torch.nn as nn\n",
        "class BERTClass(torch.nn.Module):\n",
        "    def __init__(self):\n",
        "        super(BERTClass, self).__init__()\n",
        "        self.l1 = transformers.BertModel.from_pretrained('bert-base-uncased')\n",
        "        self.l2 = torch.nn.Dropout(0.5)\n",
        "        self.l3 = torch.nn.Linear(768, 2)\n",
        "\n",
        "    def forward(self, ids, mask, token_type_ids):\n",
        "        _, output_1= self.l1(ids, attention_mask = mask, token_type_ids = token_type_ids, return_dict=False)\n",
        "        output_2 = self.l2(output_1)\n",
        "        output = self.l3(output_2)\n",
        "        return output\n",
        "model = BERTClass()  # Replace with your model class\n",
        "model.load_state_dict(torch.load(\"/kaggle/input/model-intel/intel_model.pt\"))"
      ]
    },
    {
      "cell_type": "code",
      "execution_count": null,
      "metadata": {
        "execution": {
          "iopub.execute_input": "2024-07-06T07:26:57.127972Z",
          "iopub.status.busy": "2024-07-06T07:26:57.127602Z",
          "iopub.status.idle": "2024-07-06T07:26:57.148355Z",
          "shell.execute_reply": "2024-07-06T07:26:57.147442Z",
          "shell.execute_reply.started": "2024-07-06T07:26:57.127943Z"
        },
        "id": "xmI_C8gSuw_2",
        "trusted": true
      },
      "outputs": [],
      "source": [
        "df1=pd.read_csv(\"/kaggle/input/intel-tech/tech2revclean.csv\")"
      ]
    },
    {
      "cell_type": "code",
      "execution_count": null,
      "metadata": {
        "execution": {
          "iopub.execute_input": "2024-07-06T07:26:59.550889Z",
          "iopub.status.busy": "2024-07-06T07:26:59.550533Z",
          "iopub.status.idle": "2024-07-06T07:26:59.556094Z",
          "shell.execute_reply": "2024-07-06T07:26:59.555218Z",
          "shell.execute_reply.started": "2024-07-06T07:26:59.550858Z"
        },
        "id": "f_iGAJn-uw_2",
        "trusted": true
      },
      "outputs": [],
      "source": [
        "df1['category']=''"
      ]
    },
    {
      "cell_type": "code",
      "execution_count": null,
      "metadata": {
        "execution": {
          "iopub.execute_input": "2024-07-06T07:26:54.092295Z",
          "iopub.status.busy": "2024-07-06T07:26:54.091555Z",
          "iopub.status.idle": "2024-07-06T07:26:54.096986Z",
          "shell.execute_reply": "2024-07-06T07:26:54.095972Z",
          "shell.execute_reply.started": "2024-07-06T07:26:54.092259Z"
        },
        "id": "smkbK1cIuw_2",
        "trusted": true
      },
      "outputs": [],
      "source": [
        "df2=pd.DataFrame()"
      ]
    },
    {
      "cell_type": "markdown",
      "metadata": {
        "id": "nDAtMjrR6zj2"
      },
      "source": [
        "##since technical dataset was too big we divided it in 200 datapoints gap\n"
      ]
    },
    {
      "cell_type": "code",
      "execution_count": null,
      "metadata": {
        "execution": {
          "iopub.execute_input": "2024-07-06T07:27:02.173872Z",
          "iopub.status.busy": "2024-07-06T07:27:02.173508Z",
          "iopub.status.idle": "2024-07-06T07:27:02.184225Z",
          "shell.execute_reply": "2024-07-06T07:27:02.183107Z",
          "shell.execute_reply.started": "2024-07-06T07:27:02.173842Z"
        },
        "id": "w3gji6wEuw_2",
        "trusted": true
      },
      "outputs": [],
      "source": [
        "df2 = df1[:200]\n",
        "df3 = df1[200:400]\n",
        "df4 = df1[400:600]\n",
        "df5 = df1[600:800]\n",
        "df6 = df1[800:1000]\n",
        "df7 = df1[1000:1200]\n",
        "df8 = df1[1200:1400]\n",
        "df9 = df1[1400:1600]\n",
        "df10 = df1[1600:1800]\n",
        "df11 = df1[1800:2000]\n",
        "df12 = df1[2000:2200]\n",
        "df13 = df1[2200:2400]\n",
        "df14 = df1[2400:2600]\n",
        "df15 = df1[2600:2800]\n",
        "df16 = df1[2800:3000]\n",
        "df17 = df1[3000:3200]\n",
        "df18 = df1[3200:3400]\n",
        "df19 = df1[3400:3600]\n",
        "df20 = df1[3600:3800]\n",
        "df21 = df1[3800:4000]\n",
        "df22 = df1[4000:]"
      ]
    },
    {
      "cell_type": "code",
      "execution_count": null,
      "metadata": {
        "execution": {
          "iopub.execute_input": "2024-07-06T07:27:05.795625Z",
          "iopub.status.busy": "2024-07-06T07:27:05.795266Z",
          "iopub.status.idle": "2024-07-06T07:27:05.806283Z",
          "shell.execute_reply": "2024-07-06T07:27:05.805396Z",
          "shell.execute_reply.started": "2024-07-06T07:27:05.795594Z"
        },
        "id": "_f7bcMHGuw_2",
        "trusted": true
      },
      "outputs": [],
      "source": [
        "df2.reset_index(drop=True, inplace=True)\n",
        "df3.reset_index(drop=True, inplace=True)\n",
        "df4.reset_index(drop=True, inplace=True)\n",
        "df5.reset_index(drop=True, inplace=True)\n",
        "df6.reset_index(drop=True, inplace=True)\n",
        "df7.reset_index(drop=True, inplace=True)\n",
        "df8.reset_index(drop=True, inplace=True)\n",
        "df9.reset_index(drop=True, inplace=True)\n",
        "df10.reset_index(drop=True, inplace=True)\n",
        "df11.reset_index(drop=True, inplace=True)\n",
        "df12.reset_index(drop=True, inplace=True)\n",
        "df13.reset_index(drop=True, inplace=True)\n",
        "df14.reset_index(drop=True, inplace=True)\n",
        "df15.reset_index(drop=True, inplace=True)\n",
        "df16.reset_index(drop=True, inplace=True)\n",
        "df17.reset_index(drop=True, inplace=True)\n",
        "df18.reset_index(drop=True, inplace=True)\n",
        "df19.reset_index(drop=True, inplace=True)\n",
        "df20.reset_index(drop=True, inplace=True)\n",
        "df21.reset_index(drop=True, inplace=True)\n",
        "df22.reset_index(drop=True, inplace=True)"
      ]
    },
    {
      "cell_type": "code",
      "execution_count": null,
      "metadata": {
        "execution": {
          "iopub.execute_input": "2024-07-06T06:24:58.319739Z",
          "iopub.status.busy": "2024-07-06T06:24:58.319157Z",
          "iopub.status.idle": "2024-07-06T06:24:58.324597Z",
          "shell.execute_reply": "2024-07-06T06:24:58.323637Z",
          "shell.execute_reply.started": "2024-07-06T06:24:58.319704Z"
        },
        "id": "qKOSDJwSuw_3",
        "trusted": true
      },
      "outputs": [],
      "source": [
        "df1['category']=''"
      ]
    },
    {
      "cell_type": "code",
      "execution_count": null,
      "metadata": {
        "execution": {
          "iopub.execute_input": "2024-07-06T06:07:25.257312Z",
          "iopub.status.busy": "2024-07-06T06:07:25.256916Z",
          "iopub.status.idle": "2024-07-06T06:07:25.270079Z",
          "shell.execute_reply": "2024-07-06T06:07:25.269105Z",
          "shell.execute_reply.started": "2024-07-06T06:07:25.257281Z"
        },
        "id": "mxPiwVA5uw_3",
        "outputId": "b360c331-3b09-4b10-f06d-19ab91bb7012",
        "trusted": true
      },
      "outputs": [],
      "source": [
        "df1"
      ]
    },
    {
      "cell_type": "code",
      "execution_count": null,
      "metadata": {
        "execution": {
          "iopub.execute_input": "2024-07-06T05:41:43.155888Z",
          "iopub.status.busy": "2024-07-06T05:41:43.155259Z",
          "iopub.status.idle": "2024-07-06T05:41:43.161570Z",
          "shell.execute_reply": "2024-07-06T05:41:43.160715Z",
          "shell.execute_reply.started": "2024-07-06T05:41:43.155855Z"
        },
        "id": "DN_bTdNauw_3",
        "outputId": "ffa81bf8-189c-479e-d97c-b7c869b54fca",
        "trusted": true
      },
      "outputs": [],
      "source": [
        "len(df1)"
      ]
    },
    {
      "cell_type": "markdown",
      "metadata": {
        "id": "o4sqJ3sUuw_3"
      },
      "source": []
    },
    {
      "cell_type": "code",
      "execution_count": null,
      "metadata": {
        "execution": {
          "iopub.execute_input": "2024-07-06T06:21:27.810620Z",
          "iopub.status.busy": "2024-07-06T06:21:27.810284Z",
          "iopub.status.idle": "2024-07-06T06:21:27.814892Z",
          "shell.execute_reply": "2024-07-06T06:21:27.813913Z",
          "shell.execute_reply.started": "2024-07-06T06:21:27.810593Z"
        },
        "id": "wWVHuPszuw_4",
        "trusted": true
      },
      "outputs": [],
      "source": [
        "count=0"
      ]
    },
    {
      "cell_type": "code",
      "execution_count": null,
      "metadata": {
        "execution": {
          "iopub.execute_input": "2024-07-06T07:27:16.817974Z",
          "iopub.status.busy": "2024-07-06T07:27:16.817153Z",
          "iopub.status.idle": "2024-07-06T07:27:16.829181Z",
          "shell.execute_reply": "2024-07-06T07:27:16.828231Z",
          "shell.execute_reply.started": "2024-07-06T07:27:16.817918Z"
        },
        "id": "NjkIn0Vauw_5",
        "outputId": "3ea0ac88-6210-4b78-c8f7-ebc66a4309ef",
        "trusted": true
      },
      "outputs": [],
      "source": [
        "df3"
      ]
    },
    {
      "cell_type": "markdown",
      "metadata": {
        "id": "6oeMwuFB7A21"
      },
      "source": [
        "#saving the dataset with predicted sentiments\n"
      ]
    },
    {
      "cell_type": "code",
      "execution_count": null,
      "metadata": {
        "execution": {
          "iopub.execute_input": "2024-07-06T07:50:27.477685Z",
          "iopub.status.busy": "2024-07-06T07:50:27.476944Z",
          "iopub.status.idle": "2024-07-06T07:50:27.489100Z",
          "shell.execute_reply": "2024-07-06T07:50:27.487948Z",
          "shell.execute_reply.started": "2024-07-06T07:50:27.477647Z"
        },
        "id": "3rz-3-A1uw_9",
        "trusted": true
      },
      "outputs": [],
      "source": [
        "df22.to_csv('ped21.csv', index=False)"
      ]
    },
    {
      "cell_type": "code",
      "execution_count": null,
      "metadata": {
        "execution": {
          "iopub.execute_input": "2024-07-06T07:49:05.148128Z",
          "iopub.status.busy": "2024-07-06T07:49:05.147309Z",
          "iopub.status.idle": "2024-07-06T07:50:00.224070Z",
          "shell.execute_reply": "2024-07-06T07:50:00.223114Z",
          "shell.execute_reply.started": "2024-07-06T07:49:05.148096Z"
        },
        "id": "TuzdCn5wuw_9",
        "outputId": "78ffb1ff-c2b0-4669-9dfd-15e8d2b02ec1",
        "trusted": true
      },
      "outputs": [],
      "source": [
        "for index ,text in df22.iterrows() :\n",
        "    df22['category'][index]=output1(text['cleaned_text'])"
      ]
    },
    {
      "cell_type": "code",
      "execution_count": null,
      "metadata": {
        "execution": {
          "iopub.execute_input": "2024-07-06T06:02:19.459084Z",
          "iopub.status.busy": "2024-07-06T06:02:19.458711Z",
          "iopub.status.idle": "2024-07-06T06:02:19.466475Z",
          "shell.execute_reply": "2024-07-06T06:02:19.465559Z",
          "shell.execute_reply.started": "2024-07-06T06:02:19.459055Z"
        },
        "id": "LAPCmuM9uw_9",
        "trusted": true
      },
      "outputs": [],
      "source": [
        "#passing input to model for prediction\n",
        "def output1(text):\n",
        "    inputs = tokenizer.encode_plus(\n",
        "    text=text,\n",
        "    truncation=True,  # Truncate if it exceeds max_length\n",
        "    add_special_tokens=True,\n",
        "    max_length=100,  # Same max_len used in your dataset\n",
        "    pad_to_max_length=True,\n",
        "    return_token_type_ids=True)\n",
        "    ids = torch.tensor(inputs['input_ids'], dtype=torch.long).unsqueeze(0)  # Add batch dimension\n",
        "    mask = torch.tensor(inputs['attention_mask'], dtype=torch.long).unsqueeze(0)\n",
        "    token_type_ids = torch.tensor(inputs[\"token_type_ids\"], dtype=torch.long).unsqueeze(0)\n",
        "    with torch.no_grad():  # Disable gradient calculation for efficiency\n",
        "        outputs = model(ids, mask, token_type_ids)\n",
        "    predictions = torch.argmax(nn.functional.softmax(outputs, dim=1), dim=1)\n",
        "    pred=(int)(predictions.cpu().detach().numpy())\n",
        "    return(pred)"
      ]
    },
    {
      "cell_type": "code",
      "execution_count": null,
      "metadata": {
        "execution": {
          "iopub.execute_input": "2024-07-06T06:30:02.850018Z",
          "iopub.status.busy": "2024-07-06T06:30:02.849302Z",
          "iopub.status.idle": "2024-07-06T06:30:02.900798Z",
          "shell.execute_reply": "2024-07-06T06:30:02.900091Z",
          "shell.execute_reply.started": "2024-07-06T06:30:02.849985Z"
        },
        "id": "AVyddilsuw_9",
        "trusted": true
      },
      "outputs": [],
      "source": [
        "df1.to_csv('predictionstech1.csv', index=False)"
      ]
    }
  ],
  "metadata": {
    "accelerator": "GPU",
    "colab": {
      "gpuType": "T4",
      "provenance": []
    },
    "kaggle": {
      "accelerator": "nvidiaTeslaT4",
      "dataSources": [
        {
          "datasetId": 5342698,
          "sourceId": 8875656,
          "sourceType": "datasetVersion"
        },
        {
          "datasetId": 5342785,
          "sourceId": 8875785,
          "sourceType": "datasetVersion"
        },
        {
          "datasetId": 5343127,
          "sourceId": 8876330,
          "sourceType": "datasetVersion"
        }
      ],
      "dockerImageVersionId": 30733,
      "isGpuEnabled": true,
      "isInternetEnabled": true,
      "language": "python",
      "sourceType": "notebook"
    },
    "kernelspec": {
      "display_name": "Python 3",
      "language": "python",
      "name": "python3"
    },
    "language_info": {
      "codemirror_mode": {
        "name": "ipython",
        "version": 3
      },
      "file_extension": ".py",
      "mimetype": "text/x-python",
      "name": "python",
      "nbconvert_exporter": "python",
      "pygments_lexer": "ipython3",
      "version": "3.10.13"
    },
    "widgets": {
      "application/vnd.jupyter.widget-state+json": {
        "01fc6d6baf2243fb90e1f53542f7c868": {
          "model_module": "@jupyter-widgets/controls",
          "model_module_version": "1.5.0",
          "model_name": "FloatProgressModel",
          "state": {
            "_dom_classes": [],
            "_model_module": "@jupyter-widgets/controls",
            "_model_module_version": "1.5.0",
            "_model_name": "FloatProgressModel",
            "_view_count": null,
            "_view_module": "@jupyter-widgets/controls",
            "_view_module_version": "1.5.0",
            "_view_name": "ProgressView",
            "bar_style": "success",
            "description": "",
            "description_tooltip": null,
            "layout": "IPY_MODEL_475a89221a00423493f28bde417009f2",
            "max": 231508,
            "min": 0,
            "orientation": "horizontal",
            "style": "IPY_MODEL_bf911c1385584911be1dfe797360cb1c",
            "value": 231508
          }
        },
        "051432810e484eb6bc79d44d215d5090": {
          "model_module": "@jupyter-widgets/controls",
          "model_module_version": "1.5.0",
          "model_name": "ProgressStyleModel",
          "state": {
            "_model_module": "@jupyter-widgets/controls",
            "_model_module_version": "1.5.0",
            "_model_name": "ProgressStyleModel",
            "_view_count": null,
            "_view_module": "@jupyter-widgets/base",
            "_view_module_version": "1.2.0",
            "_view_name": "StyleView",
            "bar_color": null,
            "description_width": ""
          }
        },
        "0877f3b502e144b4842d41589fd7e56d": {
          "model_module": "@jupyter-widgets/base",
          "model_module_version": "1.2.0",
          "model_name": "LayoutModel",
          "state": {
            "_model_module": "@jupyter-widgets/base",
            "_model_module_version": "1.2.0",
            "_model_name": "LayoutModel",
            "_view_count": null,
            "_view_module": "@jupyter-widgets/base",
            "_view_module_version": "1.2.0",
            "_view_name": "LayoutView",
            "align_content": null,
            "align_items": null,
            "align_self": null,
            "border": null,
            "bottom": null,
            "display": null,
            "flex": null,
            "flex_flow": null,
            "grid_area": null,
            "grid_auto_columns": null,
            "grid_auto_flow": null,
            "grid_auto_rows": null,
            "grid_column": null,
            "grid_gap": null,
            "grid_row": null,
            "grid_template_areas": null,
            "grid_template_columns": null,
            "grid_template_rows": null,
            "height": null,
            "justify_content": null,
            "justify_items": null,
            "left": null,
            "margin": null,
            "max_height": null,
            "max_width": null,
            "min_height": null,
            "min_width": null,
            "object_fit": null,
            "object_position": null,
            "order": null,
            "overflow": null,
            "overflow_x": null,
            "overflow_y": null,
            "padding": null,
            "right": null,
            "top": null,
            "visibility": null,
            "width": null
          }
        },
        "08c82dd671b749a5a6c786188d5be41f": {
          "model_module": "@jupyter-widgets/controls",
          "model_module_version": "1.5.0",
          "model_name": "DescriptionStyleModel",
          "state": {
            "_model_module": "@jupyter-widgets/controls",
            "_model_module_version": "1.5.0",
            "_model_name": "DescriptionStyleModel",
            "_view_count": null,
            "_view_module": "@jupyter-widgets/base",
            "_view_module_version": "1.2.0",
            "_view_name": "StyleView",
            "description_width": ""
          }
        },
        "0901e5d0644e4157b5cb104ae342f9a3": {
          "model_module": "@jupyter-widgets/controls",
          "model_module_version": "1.5.0",
          "model_name": "DescriptionStyleModel",
          "state": {
            "_model_module": "@jupyter-widgets/controls",
            "_model_module_version": "1.5.0",
            "_model_name": "DescriptionStyleModel",
            "_view_count": null,
            "_view_module": "@jupyter-widgets/base",
            "_view_module_version": "1.2.0",
            "_view_name": "StyleView",
            "description_width": ""
          }
        },
        "1176f00fd9c94f88bf27e53b4908f121": {
          "model_module": "@jupyter-widgets/base",
          "model_module_version": "1.2.0",
          "model_name": "LayoutModel",
          "state": {
            "_model_module": "@jupyter-widgets/base",
            "_model_module_version": "1.2.0",
            "_model_name": "LayoutModel",
            "_view_count": null,
            "_view_module": "@jupyter-widgets/base",
            "_view_module_version": "1.2.0",
            "_view_name": "LayoutView",
            "align_content": null,
            "align_items": null,
            "align_self": null,
            "border": null,
            "bottom": null,
            "display": null,
            "flex": null,
            "flex_flow": null,
            "grid_area": null,
            "grid_auto_columns": null,
            "grid_auto_flow": null,
            "grid_auto_rows": null,
            "grid_column": null,
            "grid_gap": null,
            "grid_row": null,
            "grid_template_areas": null,
            "grid_template_columns": null,
            "grid_template_rows": null,
            "height": null,
            "justify_content": null,
            "justify_items": null,
            "left": null,
            "margin": null,
            "max_height": null,
            "max_width": null,
            "min_height": null,
            "min_width": null,
            "object_fit": null,
            "object_position": null,
            "order": null,
            "overflow": null,
            "overflow_x": null,
            "overflow_y": null,
            "padding": null,
            "right": null,
            "top": null,
            "visibility": null,
            "width": null
          }
        },
        "16aca3975a4a4c53ba4eff28f53428ce": {
          "model_module": "@jupyter-widgets/base",
          "model_module_version": "1.2.0",
          "model_name": "LayoutModel",
          "state": {
            "_model_module": "@jupyter-widgets/base",
            "_model_module_version": "1.2.0",
            "_model_name": "LayoutModel",
            "_view_count": null,
            "_view_module": "@jupyter-widgets/base",
            "_view_module_version": "1.2.0",
            "_view_name": "LayoutView",
            "align_content": null,
            "align_items": null,
            "align_self": null,
            "border": null,
            "bottom": null,
            "display": null,
            "flex": null,
            "flex_flow": null,
            "grid_area": null,
            "grid_auto_columns": null,
            "grid_auto_flow": null,
            "grid_auto_rows": null,
            "grid_column": null,
            "grid_gap": null,
            "grid_row": null,
            "grid_template_areas": null,
            "grid_template_columns": null,
            "grid_template_rows": null,
            "height": null,
            "justify_content": null,
            "justify_items": null,
            "left": null,
            "margin": null,
            "max_height": null,
            "max_width": null,
            "min_height": null,
            "min_width": null,
            "object_fit": null,
            "object_position": null,
            "order": null,
            "overflow": null,
            "overflow_x": null,
            "overflow_y": null,
            "padding": null,
            "right": null,
            "top": null,
            "visibility": null,
            "width": null
          }
        },
        "1b83dce9819545dda9b0f0594648adf7": {
          "model_module": "@jupyter-widgets/controls",
          "model_module_version": "1.5.0",
          "model_name": "HTMLModel",
          "state": {
            "_dom_classes": [],
            "_model_module": "@jupyter-widgets/controls",
            "_model_module_version": "1.5.0",
            "_model_name": "HTMLModel",
            "_view_count": null,
            "_view_module": "@jupyter-widgets/controls",
            "_view_module_version": "1.5.0",
            "_view_name": "HTMLView",
            "description": "",
            "description_tooltip": null,
            "layout": "IPY_MODEL_a0a876de6c6e4137b31d48f9b5a0bc54",
            "placeholder": "​",
            "style": "IPY_MODEL_e667d38b7df14a42a86147090bf17491",
            "value": "tokenizer_config.json: 100%"
          }
        },
        "1d2e915efe5e409fad3b2bd1cbfed666": {
          "model_module": "@jupyter-widgets/controls",
          "model_module_version": "1.5.0",
          "model_name": "HTMLModel",
          "state": {
            "_dom_classes": [],
            "_model_module": "@jupyter-widgets/controls",
            "_model_module_version": "1.5.0",
            "_model_name": "HTMLModel",
            "_view_count": null,
            "_view_module": "@jupyter-widgets/controls",
            "_view_module_version": "1.5.0",
            "_view_name": "HTMLView",
            "description": "",
            "description_tooltip": null,
            "layout": "IPY_MODEL_c68466c7d4cf4eaaa11029c92f3ebdcc",
            "placeholder": "​",
            "style": "IPY_MODEL_a3e129125fc84bdaaa95d880bcf68d24",
            "value": "vocab.txt: 100%"
          }
        },
        "23263fbe60e64862a63642b0dca6987f": {
          "model_module": "@jupyter-widgets/controls",
          "model_module_version": "1.5.0",
          "model_name": "DescriptionStyleModel",
          "state": {
            "_model_module": "@jupyter-widgets/controls",
            "_model_module_version": "1.5.0",
            "_model_name": "DescriptionStyleModel",
            "_view_count": null,
            "_view_module": "@jupyter-widgets/base",
            "_view_module_version": "1.2.0",
            "_view_name": "StyleView",
            "description_width": ""
          }
        },
        "270c148a00dd4832be4750eb51b8dcc7": {
          "model_module": "@jupyter-widgets/controls",
          "model_module_version": "1.5.0",
          "model_name": "FloatProgressModel",
          "state": {
            "_dom_classes": [],
            "_model_module": "@jupyter-widgets/controls",
            "_model_module_version": "1.5.0",
            "_model_name": "FloatProgressModel",
            "_view_count": null,
            "_view_module": "@jupyter-widgets/controls",
            "_view_module_version": "1.5.0",
            "_view_name": "ProgressView",
            "bar_style": "success",
            "description": "",
            "description_tooltip": null,
            "layout": "IPY_MODEL_2f9e57265ce7402ebef20e56234d38e3",
            "max": 466062,
            "min": 0,
            "orientation": "horizontal",
            "style": "IPY_MODEL_2e0ddeda3f9a48669ed20c2f0b46ce94",
            "value": 466062
          }
        },
        "275ca151c6004efbb6ee093ec59b0705": {
          "model_module": "@jupyter-widgets/controls",
          "model_module_version": "1.5.0",
          "model_name": "DescriptionStyleModel",
          "state": {
            "_model_module": "@jupyter-widgets/controls",
            "_model_module_version": "1.5.0",
            "_model_name": "DescriptionStyleModel",
            "_view_count": null,
            "_view_module": "@jupyter-widgets/base",
            "_view_module_version": "1.2.0",
            "_view_name": "StyleView",
            "description_width": ""
          }
        },
        "2e0ddeda3f9a48669ed20c2f0b46ce94": {
          "model_module": "@jupyter-widgets/controls",
          "model_module_version": "1.5.0",
          "model_name": "ProgressStyleModel",
          "state": {
            "_model_module": "@jupyter-widgets/controls",
            "_model_module_version": "1.5.0",
            "_model_name": "ProgressStyleModel",
            "_view_count": null,
            "_view_module": "@jupyter-widgets/base",
            "_view_module_version": "1.2.0",
            "_view_name": "StyleView",
            "bar_color": null,
            "description_width": ""
          }
        },
        "2f09da596f9c4a39bedc48051aa5bd3f": {
          "model_module": "@jupyter-widgets/base",
          "model_module_version": "1.2.0",
          "model_name": "LayoutModel",
          "state": {
            "_model_module": "@jupyter-widgets/base",
            "_model_module_version": "1.2.0",
            "_model_name": "LayoutModel",
            "_view_count": null,
            "_view_module": "@jupyter-widgets/base",
            "_view_module_version": "1.2.0",
            "_view_name": "LayoutView",
            "align_content": null,
            "align_items": null,
            "align_self": null,
            "border": null,
            "bottom": null,
            "display": null,
            "flex": null,
            "flex_flow": null,
            "grid_area": null,
            "grid_auto_columns": null,
            "grid_auto_flow": null,
            "grid_auto_rows": null,
            "grid_column": null,
            "grid_gap": null,
            "grid_row": null,
            "grid_template_areas": null,
            "grid_template_columns": null,
            "grid_template_rows": null,
            "height": null,
            "justify_content": null,
            "justify_items": null,
            "left": null,
            "margin": null,
            "max_height": null,
            "max_width": null,
            "min_height": null,
            "min_width": null,
            "object_fit": null,
            "object_position": null,
            "order": null,
            "overflow": null,
            "overflow_x": null,
            "overflow_y": null,
            "padding": null,
            "right": null,
            "top": null,
            "visibility": null,
            "width": null
          }
        },
        "2f9e57265ce7402ebef20e56234d38e3": {
          "model_module": "@jupyter-widgets/base",
          "model_module_version": "1.2.0",
          "model_name": "LayoutModel",
          "state": {
            "_model_module": "@jupyter-widgets/base",
            "_model_module_version": "1.2.0",
            "_model_name": "LayoutModel",
            "_view_count": null,
            "_view_module": "@jupyter-widgets/base",
            "_view_module_version": "1.2.0",
            "_view_name": "LayoutView",
            "align_content": null,
            "align_items": null,
            "align_self": null,
            "border": null,
            "bottom": null,
            "display": null,
            "flex": null,
            "flex_flow": null,
            "grid_area": null,
            "grid_auto_columns": null,
            "grid_auto_flow": null,
            "grid_auto_rows": null,
            "grid_column": null,
            "grid_gap": null,
            "grid_row": null,
            "grid_template_areas": null,
            "grid_template_columns": null,
            "grid_template_rows": null,
            "height": null,
            "justify_content": null,
            "justify_items": null,
            "left": null,
            "margin": null,
            "max_height": null,
            "max_width": null,
            "min_height": null,
            "min_width": null,
            "object_fit": null,
            "object_position": null,
            "order": null,
            "overflow": null,
            "overflow_x": null,
            "overflow_y": null,
            "padding": null,
            "right": null,
            "top": null,
            "visibility": null,
            "width": null
          }
        },
        "3282efd21ef14500bec12545968a4309": {
          "model_module": "@jupyter-widgets/controls",
          "model_module_version": "1.5.0",
          "model_name": "HBoxModel",
          "state": {
            "_dom_classes": [],
            "_model_module": "@jupyter-widgets/controls",
            "_model_module_version": "1.5.0",
            "_model_name": "HBoxModel",
            "_view_count": null,
            "_view_module": "@jupyter-widgets/controls",
            "_view_module_version": "1.5.0",
            "_view_name": "HBoxView",
            "box_style": "",
            "children": [
              "IPY_MODEL_8e89d8438b6c4868ad215658aaf5ea5c",
              "IPY_MODEL_270c148a00dd4832be4750eb51b8dcc7",
              "IPY_MODEL_eaafd6eeb9ca4381939e718aa4472ef4"
            ],
            "layout": "IPY_MODEL_958cc00ed9d045678e35051d9f75e57f"
          }
        },
        "33d3fc185e5c46269231cf294f98caf6": {
          "model_module": "@jupyter-widgets/base",
          "model_module_version": "1.2.0",
          "model_name": "LayoutModel",
          "state": {
            "_model_module": "@jupyter-widgets/base",
            "_model_module_version": "1.2.0",
            "_model_name": "LayoutModel",
            "_view_count": null,
            "_view_module": "@jupyter-widgets/base",
            "_view_module_version": "1.2.0",
            "_view_name": "LayoutView",
            "align_content": null,
            "align_items": null,
            "align_self": null,
            "border": null,
            "bottom": null,
            "display": null,
            "flex": null,
            "flex_flow": null,
            "grid_area": null,
            "grid_auto_columns": null,
            "grid_auto_flow": null,
            "grid_auto_rows": null,
            "grid_column": null,
            "grid_gap": null,
            "grid_row": null,
            "grid_template_areas": null,
            "grid_template_columns": null,
            "grid_template_rows": null,
            "height": null,
            "justify_content": null,
            "justify_items": null,
            "left": null,
            "margin": null,
            "max_height": null,
            "max_width": null,
            "min_height": null,
            "min_width": null,
            "object_fit": null,
            "object_position": null,
            "order": null,
            "overflow": null,
            "overflow_x": null,
            "overflow_y": null,
            "padding": null,
            "right": null,
            "top": null,
            "visibility": null,
            "width": null
          }
        },
        "4157ae2372e447718a9fe0224280eb90": {
          "model_module": "@jupyter-widgets/controls",
          "model_module_version": "1.5.0",
          "model_name": "ProgressStyleModel",
          "state": {
            "_model_module": "@jupyter-widgets/controls",
            "_model_module_version": "1.5.0",
            "_model_name": "ProgressStyleModel",
            "_view_count": null,
            "_view_module": "@jupyter-widgets/base",
            "_view_module_version": "1.2.0",
            "_view_name": "StyleView",
            "bar_color": null,
            "description_width": ""
          }
        },
        "4362ace0bcf94d52b865660906b744cb": {
          "model_module": "@jupyter-widgets/controls",
          "model_module_version": "1.5.0",
          "model_name": "HTMLModel",
          "state": {
            "_dom_classes": [],
            "_model_module": "@jupyter-widgets/controls",
            "_model_module_version": "1.5.0",
            "_model_name": "HTMLModel",
            "_view_count": null,
            "_view_module": "@jupyter-widgets/controls",
            "_view_module_version": "1.5.0",
            "_view_name": "HTMLView",
            "description": "",
            "description_tooltip": null,
            "layout": "IPY_MODEL_9c51c5a13e814fefa00744ba1ea5db37",
            "placeholder": "​",
            "style": "IPY_MODEL_744d9813b8b54de99be1549a2f1f1e35",
            "value": " 440M/440M [00:05&lt;00:00, 75.4MB/s]"
          }
        },
        "475a89221a00423493f28bde417009f2": {
          "model_module": "@jupyter-widgets/base",
          "model_module_version": "1.2.0",
          "model_name": "LayoutModel",
          "state": {
            "_model_module": "@jupyter-widgets/base",
            "_model_module_version": "1.2.0",
            "_model_name": "LayoutModel",
            "_view_count": null,
            "_view_module": "@jupyter-widgets/base",
            "_view_module_version": "1.2.0",
            "_view_name": "LayoutView",
            "align_content": null,
            "align_items": null,
            "align_self": null,
            "border": null,
            "bottom": null,
            "display": null,
            "flex": null,
            "flex_flow": null,
            "grid_area": null,
            "grid_auto_columns": null,
            "grid_auto_flow": null,
            "grid_auto_rows": null,
            "grid_column": null,
            "grid_gap": null,
            "grid_row": null,
            "grid_template_areas": null,
            "grid_template_columns": null,
            "grid_template_rows": null,
            "height": null,
            "justify_content": null,
            "justify_items": null,
            "left": null,
            "margin": null,
            "max_height": null,
            "max_width": null,
            "min_height": null,
            "min_width": null,
            "object_fit": null,
            "object_position": null,
            "order": null,
            "overflow": null,
            "overflow_x": null,
            "overflow_y": null,
            "padding": null,
            "right": null,
            "top": null,
            "visibility": null,
            "width": null
          }
        },
        "67135e1689c94f9992a04419f1e6f36b": {
          "model_module": "@jupyter-widgets/base",
          "model_module_version": "1.2.0",
          "model_name": "LayoutModel",
          "state": {
            "_model_module": "@jupyter-widgets/base",
            "_model_module_version": "1.2.0",
            "_model_name": "LayoutModel",
            "_view_count": null,
            "_view_module": "@jupyter-widgets/base",
            "_view_module_version": "1.2.0",
            "_view_name": "LayoutView",
            "align_content": null,
            "align_items": null,
            "align_self": null,
            "border": null,
            "bottom": null,
            "display": null,
            "flex": null,
            "flex_flow": null,
            "grid_area": null,
            "grid_auto_columns": null,
            "grid_auto_flow": null,
            "grid_auto_rows": null,
            "grid_column": null,
            "grid_gap": null,
            "grid_row": null,
            "grid_template_areas": null,
            "grid_template_columns": null,
            "grid_template_rows": null,
            "height": null,
            "justify_content": null,
            "justify_items": null,
            "left": null,
            "margin": null,
            "max_height": null,
            "max_width": null,
            "min_height": null,
            "min_width": null,
            "object_fit": null,
            "object_position": null,
            "order": null,
            "overflow": null,
            "overflow_x": null,
            "overflow_y": null,
            "padding": null,
            "right": null,
            "top": null,
            "visibility": null,
            "width": null
          }
        },
        "67690abc236e4bb385c021784cda408b": {
          "model_module": "@jupyter-widgets/controls",
          "model_module_version": "1.5.0",
          "model_name": "ProgressStyleModel",
          "state": {
            "_model_module": "@jupyter-widgets/controls",
            "_model_module_version": "1.5.0",
            "_model_name": "ProgressStyleModel",
            "_view_count": null,
            "_view_module": "@jupyter-widgets/base",
            "_view_module_version": "1.2.0",
            "_view_name": "StyleView",
            "bar_color": null,
            "description_width": ""
          }
        },
        "6cdc97f7d507489c9aa27acdd98ee4fb": {
          "model_module": "@jupyter-widgets/controls",
          "model_module_version": "1.5.0",
          "model_name": "HTMLModel",
          "state": {
            "_dom_classes": [],
            "_model_module": "@jupyter-widgets/controls",
            "_model_module_version": "1.5.0",
            "_model_name": "HTMLModel",
            "_view_count": null,
            "_view_module": "@jupyter-widgets/controls",
            "_view_module_version": "1.5.0",
            "_view_name": "HTMLView",
            "description": "",
            "description_tooltip": null,
            "layout": "IPY_MODEL_a550261eb4574520b27ede3d658818df",
            "placeholder": "​",
            "style": "IPY_MODEL_23263fbe60e64862a63642b0dca6987f",
            "value": " 570/570 [00:00&lt;00:00, 22.5kB/s]"
          }
        },
        "744d9813b8b54de99be1549a2f1f1e35": {
          "model_module": "@jupyter-widgets/controls",
          "model_module_version": "1.5.0",
          "model_name": "DescriptionStyleModel",
          "state": {
            "_model_module": "@jupyter-widgets/controls",
            "_model_module_version": "1.5.0",
            "_model_name": "DescriptionStyleModel",
            "_view_count": null,
            "_view_module": "@jupyter-widgets/base",
            "_view_module_version": "1.2.0",
            "_view_name": "StyleView",
            "description_width": ""
          }
        },
        "7729cb82eff04ddb98f224df6b02fe50": {
          "model_module": "@jupyter-widgets/controls",
          "model_module_version": "1.5.0",
          "model_name": "HTMLModel",
          "state": {
            "_dom_classes": [],
            "_model_module": "@jupyter-widgets/controls",
            "_model_module_version": "1.5.0",
            "_model_name": "HTMLModel",
            "_view_count": null,
            "_view_module": "@jupyter-widgets/controls",
            "_view_module_version": "1.5.0",
            "_view_name": "HTMLView",
            "description": "",
            "description_tooltip": null,
            "layout": "IPY_MODEL_ea82612a379148798807979f893159f0",
            "placeholder": "​",
            "style": "IPY_MODEL_94bef5f904d04a91a8980485432d9a76",
            "value": " 232k/232k [00:00&lt;00:00, 1.71MB/s]"
          }
        },
        "851556149ac4472ea82fc3fe56882d7b": {
          "model_module": "@jupyter-widgets/controls",
          "model_module_version": "1.5.0",
          "model_name": "FloatProgressModel",
          "state": {
            "_dom_classes": [],
            "_model_module": "@jupyter-widgets/controls",
            "_model_module_version": "1.5.0",
            "_model_name": "FloatProgressModel",
            "_view_count": null,
            "_view_module": "@jupyter-widgets/controls",
            "_view_module_version": "1.5.0",
            "_view_name": "ProgressView",
            "bar_style": "success",
            "description": "",
            "description_tooltip": null,
            "layout": "IPY_MODEL_a7733f1fc5ad464db8401bfe8c80ef11",
            "max": 440449768,
            "min": 0,
            "orientation": "horizontal",
            "style": "IPY_MODEL_051432810e484eb6bc79d44d215d5090",
            "value": 440449768
          }
        },
        "8ce87d4e69424de59910a66188cc5b6b": {
          "model_module": "@jupyter-widgets/controls",
          "model_module_version": "1.5.0",
          "model_name": "HBoxModel",
          "state": {
            "_dom_classes": [],
            "_model_module": "@jupyter-widgets/controls",
            "_model_module_version": "1.5.0",
            "_model_name": "HBoxModel",
            "_view_count": null,
            "_view_module": "@jupyter-widgets/controls",
            "_view_module_version": "1.5.0",
            "_view_name": "HBoxView",
            "box_style": "",
            "children": [
              "IPY_MODEL_e5f5c42b14df4639806ac14d120392c1",
              "IPY_MODEL_ff1c995ecf51449da8c574d11f0161ab",
              "IPY_MODEL_6cdc97f7d507489c9aa27acdd98ee4fb"
            ],
            "layout": "IPY_MODEL_67135e1689c94f9992a04419f1e6f36b"
          }
        },
        "8e59aa1d212a458fa91e14426b76d245": {
          "model_module": "@jupyter-widgets/controls",
          "model_module_version": "1.5.0",
          "model_name": "HBoxModel",
          "state": {
            "_dom_classes": [],
            "_model_module": "@jupyter-widgets/controls",
            "_model_module_version": "1.5.0",
            "_model_name": "HBoxModel",
            "_view_count": null,
            "_view_module": "@jupyter-widgets/controls",
            "_view_module_version": "1.5.0",
            "_view_name": "HBoxView",
            "box_style": "",
            "children": [
              "IPY_MODEL_1d2e915efe5e409fad3b2bd1cbfed666",
              "IPY_MODEL_01fc6d6baf2243fb90e1f53542f7c868",
              "IPY_MODEL_7729cb82eff04ddb98f224df6b02fe50"
            ],
            "layout": "IPY_MODEL_aa26072a222e4f40bdc576f667b15ced"
          }
        },
        "8e89d8438b6c4868ad215658aaf5ea5c": {
          "model_module": "@jupyter-widgets/controls",
          "model_module_version": "1.5.0",
          "model_name": "HTMLModel",
          "state": {
            "_dom_classes": [],
            "_model_module": "@jupyter-widgets/controls",
            "_model_module_version": "1.5.0",
            "_model_name": "HTMLModel",
            "_view_count": null,
            "_view_module": "@jupyter-widgets/controls",
            "_view_module_version": "1.5.0",
            "_view_name": "HTMLView",
            "description": "",
            "description_tooltip": null,
            "layout": "IPY_MODEL_2f09da596f9c4a39bedc48051aa5bd3f",
            "placeholder": "​",
            "style": "IPY_MODEL_0901e5d0644e4157b5cb104ae342f9a3",
            "value": "tokenizer.json: 100%"
          }
        },
        "93963d2ea25f4ee0b7ddb0a2be6b9668": {
          "model_module": "@jupyter-widgets/base",
          "model_module_version": "1.2.0",
          "model_name": "LayoutModel",
          "state": {
            "_model_module": "@jupyter-widgets/base",
            "_model_module_version": "1.2.0",
            "_model_name": "LayoutModel",
            "_view_count": null,
            "_view_module": "@jupyter-widgets/base",
            "_view_module_version": "1.2.0",
            "_view_name": "LayoutView",
            "align_content": null,
            "align_items": null,
            "align_self": null,
            "border": null,
            "bottom": null,
            "display": null,
            "flex": null,
            "flex_flow": null,
            "grid_area": null,
            "grid_auto_columns": null,
            "grid_auto_flow": null,
            "grid_auto_rows": null,
            "grid_column": null,
            "grid_gap": null,
            "grid_row": null,
            "grid_template_areas": null,
            "grid_template_columns": null,
            "grid_template_rows": null,
            "height": null,
            "justify_content": null,
            "justify_items": null,
            "left": null,
            "margin": null,
            "max_height": null,
            "max_width": null,
            "min_height": null,
            "min_width": null,
            "object_fit": null,
            "object_position": null,
            "order": null,
            "overflow": null,
            "overflow_x": null,
            "overflow_y": null,
            "padding": null,
            "right": null,
            "top": null,
            "visibility": null,
            "width": null
          }
        },
        "94bef5f904d04a91a8980485432d9a76": {
          "model_module": "@jupyter-widgets/controls",
          "model_module_version": "1.5.0",
          "model_name": "DescriptionStyleModel",
          "state": {
            "_model_module": "@jupyter-widgets/controls",
            "_model_module_version": "1.5.0",
            "_model_name": "DescriptionStyleModel",
            "_view_count": null,
            "_view_module": "@jupyter-widgets/base",
            "_view_module_version": "1.2.0",
            "_view_name": "StyleView",
            "description_width": ""
          }
        },
        "958cc00ed9d045678e35051d9f75e57f": {
          "model_module": "@jupyter-widgets/base",
          "model_module_version": "1.2.0",
          "model_name": "LayoutModel",
          "state": {
            "_model_module": "@jupyter-widgets/base",
            "_model_module_version": "1.2.0",
            "_model_name": "LayoutModel",
            "_view_count": null,
            "_view_module": "@jupyter-widgets/base",
            "_view_module_version": "1.2.0",
            "_view_name": "LayoutView",
            "align_content": null,
            "align_items": null,
            "align_self": null,
            "border": null,
            "bottom": null,
            "display": null,
            "flex": null,
            "flex_flow": null,
            "grid_area": null,
            "grid_auto_columns": null,
            "grid_auto_flow": null,
            "grid_auto_rows": null,
            "grid_column": null,
            "grid_gap": null,
            "grid_row": null,
            "grid_template_areas": null,
            "grid_template_columns": null,
            "grid_template_rows": null,
            "height": null,
            "justify_content": null,
            "justify_items": null,
            "left": null,
            "margin": null,
            "max_height": null,
            "max_width": null,
            "min_height": null,
            "min_width": null,
            "object_fit": null,
            "object_position": null,
            "order": null,
            "overflow": null,
            "overflow_x": null,
            "overflow_y": null,
            "padding": null,
            "right": null,
            "top": null,
            "visibility": null,
            "width": null
          }
        },
        "9ac5dde74e784145a9d406f542a4c896": {
          "model_module": "@jupyter-widgets/base",
          "model_module_version": "1.2.0",
          "model_name": "LayoutModel",
          "state": {
            "_model_module": "@jupyter-widgets/base",
            "_model_module_version": "1.2.0",
            "_model_name": "LayoutModel",
            "_view_count": null,
            "_view_module": "@jupyter-widgets/base",
            "_view_module_version": "1.2.0",
            "_view_name": "LayoutView",
            "align_content": null,
            "align_items": null,
            "align_self": null,
            "border": null,
            "bottom": null,
            "display": null,
            "flex": null,
            "flex_flow": null,
            "grid_area": null,
            "grid_auto_columns": null,
            "grid_auto_flow": null,
            "grid_auto_rows": null,
            "grid_column": null,
            "grid_gap": null,
            "grid_row": null,
            "grid_template_areas": null,
            "grid_template_columns": null,
            "grid_template_rows": null,
            "height": null,
            "justify_content": null,
            "justify_items": null,
            "left": null,
            "margin": null,
            "max_height": null,
            "max_width": null,
            "min_height": null,
            "min_width": null,
            "object_fit": null,
            "object_position": null,
            "order": null,
            "overflow": null,
            "overflow_x": null,
            "overflow_y": null,
            "padding": null,
            "right": null,
            "top": null,
            "visibility": null,
            "width": null
          }
        },
        "9c51c5a13e814fefa00744ba1ea5db37": {
          "model_module": "@jupyter-widgets/base",
          "model_module_version": "1.2.0",
          "model_name": "LayoutModel",
          "state": {
            "_model_module": "@jupyter-widgets/base",
            "_model_module_version": "1.2.0",
            "_model_name": "LayoutModel",
            "_view_count": null,
            "_view_module": "@jupyter-widgets/base",
            "_view_module_version": "1.2.0",
            "_view_name": "LayoutView",
            "align_content": null,
            "align_items": null,
            "align_self": null,
            "border": null,
            "bottom": null,
            "display": null,
            "flex": null,
            "flex_flow": null,
            "grid_area": null,
            "grid_auto_columns": null,
            "grid_auto_flow": null,
            "grid_auto_rows": null,
            "grid_column": null,
            "grid_gap": null,
            "grid_row": null,
            "grid_template_areas": null,
            "grid_template_columns": null,
            "grid_template_rows": null,
            "height": null,
            "justify_content": null,
            "justify_items": null,
            "left": null,
            "margin": null,
            "max_height": null,
            "max_width": null,
            "min_height": null,
            "min_width": null,
            "object_fit": null,
            "object_position": null,
            "order": null,
            "overflow": null,
            "overflow_x": null,
            "overflow_y": null,
            "padding": null,
            "right": null,
            "top": null,
            "visibility": null,
            "width": null
          }
        },
        "a0a876de6c6e4137b31d48f9b5a0bc54": {
          "model_module": "@jupyter-widgets/base",
          "model_module_version": "1.2.0",
          "model_name": "LayoutModel",
          "state": {
            "_model_module": "@jupyter-widgets/base",
            "_model_module_version": "1.2.0",
            "_model_name": "LayoutModel",
            "_view_count": null,
            "_view_module": "@jupyter-widgets/base",
            "_view_module_version": "1.2.0",
            "_view_name": "LayoutView",
            "align_content": null,
            "align_items": null,
            "align_self": null,
            "border": null,
            "bottom": null,
            "display": null,
            "flex": null,
            "flex_flow": null,
            "grid_area": null,
            "grid_auto_columns": null,
            "grid_auto_flow": null,
            "grid_auto_rows": null,
            "grid_column": null,
            "grid_gap": null,
            "grid_row": null,
            "grid_template_areas": null,
            "grid_template_columns": null,
            "grid_template_rows": null,
            "height": null,
            "justify_content": null,
            "justify_items": null,
            "left": null,
            "margin": null,
            "max_height": null,
            "max_width": null,
            "min_height": null,
            "min_width": null,
            "object_fit": null,
            "object_position": null,
            "order": null,
            "overflow": null,
            "overflow_x": null,
            "overflow_y": null,
            "padding": null,
            "right": null,
            "top": null,
            "visibility": null,
            "width": null
          }
        },
        "a33ec9b968fd49f1860f87114090a9d4": {
          "model_module": "@jupyter-widgets/controls",
          "model_module_version": "1.5.0",
          "model_name": "HBoxModel",
          "state": {
            "_dom_classes": [],
            "_model_module": "@jupyter-widgets/controls",
            "_model_module_version": "1.5.0",
            "_model_name": "HBoxModel",
            "_view_count": null,
            "_view_module": "@jupyter-widgets/controls",
            "_view_module_version": "1.5.0",
            "_view_name": "HBoxView",
            "box_style": "",
            "children": [
              "IPY_MODEL_1b83dce9819545dda9b0f0594648adf7",
              "IPY_MODEL_f3f5e898a5324477b579237a32ba6da1",
              "IPY_MODEL_b300e494079a42558a448c0b59196615"
            ],
            "layout": "IPY_MODEL_1176f00fd9c94f88bf27e53b4908f121"
          }
        },
        "a3e129125fc84bdaaa95d880bcf68d24": {
          "model_module": "@jupyter-widgets/controls",
          "model_module_version": "1.5.0",
          "model_name": "DescriptionStyleModel",
          "state": {
            "_model_module": "@jupyter-widgets/controls",
            "_model_module_version": "1.5.0",
            "_model_name": "DescriptionStyleModel",
            "_view_count": null,
            "_view_module": "@jupyter-widgets/base",
            "_view_module_version": "1.2.0",
            "_view_name": "StyleView",
            "description_width": ""
          }
        },
        "a550261eb4574520b27ede3d658818df": {
          "model_module": "@jupyter-widgets/base",
          "model_module_version": "1.2.0",
          "model_name": "LayoutModel",
          "state": {
            "_model_module": "@jupyter-widgets/base",
            "_model_module_version": "1.2.0",
            "_model_name": "LayoutModel",
            "_view_count": null,
            "_view_module": "@jupyter-widgets/base",
            "_view_module_version": "1.2.0",
            "_view_name": "LayoutView",
            "align_content": null,
            "align_items": null,
            "align_self": null,
            "border": null,
            "bottom": null,
            "display": null,
            "flex": null,
            "flex_flow": null,
            "grid_area": null,
            "grid_auto_columns": null,
            "grid_auto_flow": null,
            "grid_auto_rows": null,
            "grid_column": null,
            "grid_gap": null,
            "grid_row": null,
            "grid_template_areas": null,
            "grid_template_columns": null,
            "grid_template_rows": null,
            "height": null,
            "justify_content": null,
            "justify_items": null,
            "left": null,
            "margin": null,
            "max_height": null,
            "max_width": null,
            "min_height": null,
            "min_width": null,
            "object_fit": null,
            "object_position": null,
            "order": null,
            "overflow": null,
            "overflow_x": null,
            "overflow_y": null,
            "padding": null,
            "right": null,
            "top": null,
            "visibility": null,
            "width": null
          }
        },
        "a7733f1fc5ad464db8401bfe8c80ef11": {
          "model_module": "@jupyter-widgets/base",
          "model_module_version": "1.2.0",
          "model_name": "LayoutModel",
          "state": {
            "_model_module": "@jupyter-widgets/base",
            "_model_module_version": "1.2.0",
            "_model_name": "LayoutModel",
            "_view_count": null,
            "_view_module": "@jupyter-widgets/base",
            "_view_module_version": "1.2.0",
            "_view_name": "LayoutView",
            "align_content": null,
            "align_items": null,
            "align_self": null,
            "border": null,
            "bottom": null,
            "display": null,
            "flex": null,
            "flex_flow": null,
            "grid_area": null,
            "grid_auto_columns": null,
            "grid_auto_flow": null,
            "grid_auto_rows": null,
            "grid_column": null,
            "grid_gap": null,
            "grid_row": null,
            "grid_template_areas": null,
            "grid_template_columns": null,
            "grid_template_rows": null,
            "height": null,
            "justify_content": null,
            "justify_items": null,
            "left": null,
            "margin": null,
            "max_height": null,
            "max_width": null,
            "min_height": null,
            "min_width": null,
            "object_fit": null,
            "object_position": null,
            "order": null,
            "overflow": null,
            "overflow_x": null,
            "overflow_y": null,
            "padding": null,
            "right": null,
            "top": null,
            "visibility": null,
            "width": null
          }
        },
        "aa26072a222e4f40bdc576f667b15ced": {
          "model_module": "@jupyter-widgets/base",
          "model_module_version": "1.2.0",
          "model_name": "LayoutModel",
          "state": {
            "_model_module": "@jupyter-widgets/base",
            "_model_module_version": "1.2.0",
            "_model_name": "LayoutModel",
            "_view_count": null,
            "_view_module": "@jupyter-widgets/base",
            "_view_module_version": "1.2.0",
            "_view_name": "LayoutView",
            "align_content": null,
            "align_items": null,
            "align_self": null,
            "border": null,
            "bottom": null,
            "display": null,
            "flex": null,
            "flex_flow": null,
            "grid_area": null,
            "grid_auto_columns": null,
            "grid_auto_flow": null,
            "grid_auto_rows": null,
            "grid_column": null,
            "grid_gap": null,
            "grid_row": null,
            "grid_template_areas": null,
            "grid_template_columns": null,
            "grid_template_rows": null,
            "height": null,
            "justify_content": null,
            "justify_items": null,
            "left": null,
            "margin": null,
            "max_height": null,
            "max_width": null,
            "min_height": null,
            "min_width": null,
            "object_fit": null,
            "object_position": null,
            "order": null,
            "overflow": null,
            "overflow_x": null,
            "overflow_y": null,
            "padding": null,
            "right": null,
            "top": null,
            "visibility": null,
            "width": null
          }
        },
        "ab41efd73ced436394aab8d9e0e63416": {
          "model_module": "@jupyter-widgets/controls",
          "model_module_version": "1.5.0",
          "model_name": "HTMLModel",
          "state": {
            "_dom_classes": [],
            "_model_module": "@jupyter-widgets/controls",
            "_model_module_version": "1.5.0",
            "_model_name": "HTMLModel",
            "_view_count": null,
            "_view_module": "@jupyter-widgets/controls",
            "_view_module_version": "1.5.0",
            "_view_name": "HTMLView",
            "description": "",
            "description_tooltip": null,
            "layout": "IPY_MODEL_ab77786896034702824778a5a29b1d0d",
            "placeholder": "​",
            "style": "IPY_MODEL_b999ac601e7a4591842df50d479e0958",
            "value": "model.safetensors: 100%"
          }
        },
        "ab77786896034702824778a5a29b1d0d": {
          "model_module": "@jupyter-widgets/base",
          "model_module_version": "1.2.0",
          "model_name": "LayoutModel",
          "state": {
            "_model_module": "@jupyter-widgets/base",
            "_model_module_version": "1.2.0",
            "_model_name": "LayoutModel",
            "_view_count": null,
            "_view_module": "@jupyter-widgets/base",
            "_view_module_version": "1.2.0",
            "_view_name": "LayoutView",
            "align_content": null,
            "align_items": null,
            "align_self": null,
            "border": null,
            "bottom": null,
            "display": null,
            "flex": null,
            "flex_flow": null,
            "grid_area": null,
            "grid_auto_columns": null,
            "grid_auto_flow": null,
            "grid_auto_rows": null,
            "grid_column": null,
            "grid_gap": null,
            "grid_row": null,
            "grid_template_areas": null,
            "grid_template_columns": null,
            "grid_template_rows": null,
            "height": null,
            "justify_content": null,
            "justify_items": null,
            "left": null,
            "margin": null,
            "max_height": null,
            "max_width": null,
            "min_height": null,
            "min_width": null,
            "object_fit": null,
            "object_position": null,
            "order": null,
            "overflow": null,
            "overflow_x": null,
            "overflow_y": null,
            "padding": null,
            "right": null,
            "top": null,
            "visibility": null,
            "width": null
          }
        },
        "b300e494079a42558a448c0b59196615": {
          "model_module": "@jupyter-widgets/controls",
          "model_module_version": "1.5.0",
          "model_name": "HTMLModel",
          "state": {
            "_dom_classes": [],
            "_model_module": "@jupyter-widgets/controls",
            "_model_module_version": "1.5.0",
            "_model_name": "HTMLModel",
            "_view_count": null,
            "_view_module": "@jupyter-widgets/controls",
            "_view_module_version": "1.5.0",
            "_view_name": "HTMLView",
            "description": "",
            "description_tooltip": null,
            "layout": "IPY_MODEL_33d3fc185e5c46269231cf294f98caf6",
            "placeholder": "​",
            "style": "IPY_MODEL_275ca151c6004efbb6ee093ec59b0705",
            "value": " 48.0/48.0 [00:00&lt;00:00, 2.88kB/s]"
          }
        },
        "b999ac601e7a4591842df50d479e0958": {
          "model_module": "@jupyter-widgets/controls",
          "model_module_version": "1.5.0",
          "model_name": "DescriptionStyleModel",
          "state": {
            "_model_module": "@jupyter-widgets/controls",
            "_model_module_version": "1.5.0",
            "_model_name": "DescriptionStyleModel",
            "_view_count": null,
            "_view_module": "@jupyter-widgets/base",
            "_view_module_version": "1.2.0",
            "_view_name": "StyleView",
            "description_width": ""
          }
        },
        "bf911c1385584911be1dfe797360cb1c": {
          "model_module": "@jupyter-widgets/controls",
          "model_module_version": "1.5.0",
          "model_name": "ProgressStyleModel",
          "state": {
            "_model_module": "@jupyter-widgets/controls",
            "_model_module_version": "1.5.0",
            "_model_name": "ProgressStyleModel",
            "_view_count": null,
            "_view_module": "@jupyter-widgets/base",
            "_view_module_version": "1.2.0",
            "_view_name": "StyleView",
            "bar_color": null,
            "description_width": ""
          }
        },
        "c68466c7d4cf4eaaa11029c92f3ebdcc": {
          "model_module": "@jupyter-widgets/base",
          "model_module_version": "1.2.0",
          "model_name": "LayoutModel",
          "state": {
            "_model_module": "@jupyter-widgets/base",
            "_model_module_version": "1.2.0",
            "_model_name": "LayoutModel",
            "_view_count": null,
            "_view_module": "@jupyter-widgets/base",
            "_view_module_version": "1.2.0",
            "_view_name": "LayoutView",
            "align_content": null,
            "align_items": null,
            "align_self": null,
            "border": null,
            "bottom": null,
            "display": null,
            "flex": null,
            "flex_flow": null,
            "grid_area": null,
            "grid_auto_columns": null,
            "grid_auto_flow": null,
            "grid_auto_rows": null,
            "grid_column": null,
            "grid_gap": null,
            "grid_row": null,
            "grid_template_areas": null,
            "grid_template_columns": null,
            "grid_template_rows": null,
            "height": null,
            "justify_content": null,
            "justify_items": null,
            "left": null,
            "margin": null,
            "max_height": null,
            "max_width": null,
            "min_height": null,
            "min_width": null,
            "object_fit": null,
            "object_position": null,
            "order": null,
            "overflow": null,
            "overflow_x": null,
            "overflow_y": null,
            "padding": null,
            "right": null,
            "top": null,
            "visibility": null,
            "width": null
          }
        },
        "e5f5c42b14df4639806ac14d120392c1": {
          "model_module": "@jupyter-widgets/controls",
          "model_module_version": "1.5.0",
          "model_name": "HTMLModel",
          "state": {
            "_dom_classes": [],
            "_model_module": "@jupyter-widgets/controls",
            "_model_module_version": "1.5.0",
            "_model_name": "HTMLModel",
            "_view_count": null,
            "_view_module": "@jupyter-widgets/controls",
            "_view_module_version": "1.5.0",
            "_view_name": "HTMLView",
            "description": "",
            "description_tooltip": null,
            "layout": "IPY_MODEL_f46c320706c24dc985b6d2222dda1f9c",
            "placeholder": "​",
            "style": "IPY_MODEL_ee8f7b30aafb408a82bcc091359c4e8b",
            "value": "config.json: 100%"
          }
        },
        "e667d38b7df14a42a86147090bf17491": {
          "model_module": "@jupyter-widgets/controls",
          "model_module_version": "1.5.0",
          "model_name": "DescriptionStyleModel",
          "state": {
            "_model_module": "@jupyter-widgets/controls",
            "_model_module_version": "1.5.0",
            "_model_name": "DescriptionStyleModel",
            "_view_count": null,
            "_view_module": "@jupyter-widgets/base",
            "_view_module_version": "1.2.0",
            "_view_name": "StyleView",
            "description_width": ""
          }
        },
        "ea82612a379148798807979f893159f0": {
          "model_module": "@jupyter-widgets/base",
          "model_module_version": "1.2.0",
          "model_name": "LayoutModel",
          "state": {
            "_model_module": "@jupyter-widgets/base",
            "_model_module_version": "1.2.0",
            "_model_name": "LayoutModel",
            "_view_count": null,
            "_view_module": "@jupyter-widgets/base",
            "_view_module_version": "1.2.0",
            "_view_name": "LayoutView",
            "align_content": null,
            "align_items": null,
            "align_self": null,
            "border": null,
            "bottom": null,
            "display": null,
            "flex": null,
            "flex_flow": null,
            "grid_area": null,
            "grid_auto_columns": null,
            "grid_auto_flow": null,
            "grid_auto_rows": null,
            "grid_column": null,
            "grid_gap": null,
            "grid_row": null,
            "grid_template_areas": null,
            "grid_template_columns": null,
            "grid_template_rows": null,
            "height": null,
            "justify_content": null,
            "justify_items": null,
            "left": null,
            "margin": null,
            "max_height": null,
            "max_width": null,
            "min_height": null,
            "min_width": null,
            "object_fit": null,
            "object_position": null,
            "order": null,
            "overflow": null,
            "overflow_x": null,
            "overflow_y": null,
            "padding": null,
            "right": null,
            "top": null,
            "visibility": null,
            "width": null
          }
        },
        "eaafd6eeb9ca4381939e718aa4472ef4": {
          "model_module": "@jupyter-widgets/controls",
          "model_module_version": "1.5.0",
          "model_name": "HTMLModel",
          "state": {
            "_dom_classes": [],
            "_model_module": "@jupyter-widgets/controls",
            "_model_module_version": "1.5.0",
            "_model_name": "HTMLModel",
            "_view_count": null,
            "_view_module": "@jupyter-widgets/controls",
            "_view_module_version": "1.5.0",
            "_view_name": "HTMLView",
            "description": "",
            "description_tooltip": null,
            "layout": "IPY_MODEL_16aca3975a4a4c53ba4eff28f53428ce",
            "placeholder": "​",
            "style": "IPY_MODEL_08c82dd671b749a5a6c786188d5be41f",
            "value": " 466k/466k [00:00&lt;00:00, 7.05MB/s]"
          }
        },
        "ee8f7b30aafb408a82bcc091359c4e8b": {
          "model_module": "@jupyter-widgets/controls",
          "model_module_version": "1.5.0",
          "model_name": "DescriptionStyleModel",
          "state": {
            "_model_module": "@jupyter-widgets/controls",
            "_model_module_version": "1.5.0",
            "_model_name": "DescriptionStyleModel",
            "_view_count": null,
            "_view_module": "@jupyter-widgets/base",
            "_view_module_version": "1.2.0",
            "_view_name": "StyleView",
            "description_width": ""
          }
        },
        "f3f5e898a5324477b579237a32ba6da1": {
          "model_module": "@jupyter-widgets/controls",
          "model_module_version": "1.5.0",
          "model_name": "FloatProgressModel",
          "state": {
            "_dom_classes": [],
            "_model_module": "@jupyter-widgets/controls",
            "_model_module_version": "1.5.0",
            "_model_name": "FloatProgressModel",
            "_view_count": null,
            "_view_module": "@jupyter-widgets/controls",
            "_view_module_version": "1.5.0",
            "_view_name": "ProgressView",
            "bar_style": "success",
            "description": "",
            "description_tooltip": null,
            "layout": "IPY_MODEL_9ac5dde74e784145a9d406f542a4c896",
            "max": 48,
            "min": 0,
            "orientation": "horizontal",
            "style": "IPY_MODEL_4157ae2372e447718a9fe0224280eb90",
            "value": 48
          }
        },
        "f46c320706c24dc985b6d2222dda1f9c": {
          "model_module": "@jupyter-widgets/base",
          "model_module_version": "1.2.0",
          "model_name": "LayoutModel",
          "state": {
            "_model_module": "@jupyter-widgets/base",
            "_model_module_version": "1.2.0",
            "_model_name": "LayoutModel",
            "_view_count": null,
            "_view_module": "@jupyter-widgets/base",
            "_view_module_version": "1.2.0",
            "_view_name": "LayoutView",
            "align_content": null,
            "align_items": null,
            "align_self": null,
            "border": null,
            "bottom": null,
            "display": null,
            "flex": null,
            "flex_flow": null,
            "grid_area": null,
            "grid_auto_columns": null,
            "grid_auto_flow": null,
            "grid_auto_rows": null,
            "grid_column": null,
            "grid_gap": null,
            "grid_row": null,
            "grid_template_areas": null,
            "grid_template_columns": null,
            "grid_template_rows": null,
            "height": null,
            "justify_content": null,
            "justify_items": null,
            "left": null,
            "margin": null,
            "max_height": null,
            "max_width": null,
            "min_height": null,
            "min_width": null,
            "object_fit": null,
            "object_position": null,
            "order": null,
            "overflow": null,
            "overflow_x": null,
            "overflow_y": null,
            "padding": null,
            "right": null,
            "top": null,
            "visibility": null,
            "width": null
          }
        },
        "fde4e15eb3c14d6fb5216d0663090565": {
          "model_module": "@jupyter-widgets/controls",
          "model_module_version": "1.5.0",
          "model_name": "HBoxModel",
          "state": {
            "_dom_classes": [],
            "_model_module": "@jupyter-widgets/controls",
            "_model_module_version": "1.5.0",
            "_model_name": "HBoxModel",
            "_view_count": null,
            "_view_module": "@jupyter-widgets/controls",
            "_view_module_version": "1.5.0",
            "_view_name": "HBoxView",
            "box_style": "",
            "children": [
              "IPY_MODEL_ab41efd73ced436394aab8d9e0e63416",
              "IPY_MODEL_851556149ac4472ea82fc3fe56882d7b",
              "IPY_MODEL_4362ace0bcf94d52b865660906b744cb"
            ],
            "layout": "IPY_MODEL_93963d2ea25f4ee0b7ddb0a2be6b9668"
          }
        },
        "ff1c995ecf51449da8c574d11f0161ab": {
          "model_module": "@jupyter-widgets/controls",
          "model_module_version": "1.5.0",
          "model_name": "FloatProgressModel",
          "state": {
            "_dom_classes": [],
            "_model_module": "@jupyter-widgets/controls",
            "_model_module_version": "1.5.0",
            "_model_name": "FloatProgressModel",
            "_view_count": null,
            "_view_module": "@jupyter-widgets/controls",
            "_view_module_version": "1.5.0",
            "_view_name": "ProgressView",
            "bar_style": "success",
            "description": "",
            "description_tooltip": null,
            "layout": "IPY_MODEL_0877f3b502e144b4842d41589fd7e56d",
            "max": 570,
            "min": 0,
            "orientation": "horizontal",
            "style": "IPY_MODEL_67690abc236e4bb385c021784cda408b",
            "value": 570
          }
        }
      }
    }
  },
  "nbformat": 4,
  "nbformat_minor": 0
}
