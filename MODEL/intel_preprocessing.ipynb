{
  "cells": [
    {
      "cell_type": "code",
      "execution_count": null,
      "metadata": {
        "colab": {
          "base_uri": "https://localhost:8080/"
        },
        "id": "C_5B9byB1QYe",
        "outputId": "b5fc3729-fe5e-431a-be2c-60c4e098a9cf"
      },
      "outputs": [],
      "source": [
        "!nvidia-smi -L"
      ]
    },
    {
      "cell_type": "code",
      "execution_count": null,
      "metadata": {
        "id": "1YKWTjkg40Bo"
      },
      "outputs": [],
      "source": [
        "import pandas as pd"
      ]
    },
    {
      "cell_type": "code",
      "execution_count": null,
      "metadata": {
        "id": "XtfXqnWXd3c4"
      },
      "outputs": [],
      "source": [
        "df=pd.read_csv(\"/content/userrev(scrapped).csv\", encoding='latin-1') #raw user data path"
      ]
    },
    {
      "cell_type": "code",
      "execution_count": null,
      "metadata": {
        "id": "gwO2NlwAN5-L"
      },
      "outputs": [],
      "source": [
        "df['text'] = df['review_title'].astype(str) + ' ' + df['review_content'].astype(str)"
      ]
    },
    {
      "cell_type": "code",
      "execution_count": null,
      "metadata": {
        "colab": {
          "base_uri": "https://localhost:8080/",
          "height": 1000
        },
        "id": "NRm7KgMt6Mwj",
        "outputId": "d51d2318-284a-43c0-f993-f4a3d3a4883b"
      },
      "outputs": [],
      "source": [
        "df"
      ]
    },
    {
      "cell_type": "code",
      "execution_count": null,
      "metadata": {
        "colab": {
          "base_uri": "https://localhost:8080/"
        },
        "id": "qRoMztKyINpf",
        "outputId": "e3a08b7a-28ea-4b4d-b217-b2123f066695"
      },
      "outputs": [],
      "source": [
        "#unique rating of user data\n",
        "df['review_rating'].unique()"
      ]
    },
    {
      "cell_type": "code",
      "execution_count": null,
      "metadata": {
        "id": "SyTNeqJ_7UOk"
      },
      "outputs": [],
      "source": [
        "# find null values in df and delete\n",
        "\n",
        "df.isnull().sum()\n",
        "df = df.dropna()\n"
      ]
    },
    {
      "cell_type": "code",
      "execution_count": null,
      "metadata": {
        "colab": {
          "base_uri": "https://localhost:8080/"
        },
        "id": "i3uR7dhO7tvq",
        "outputId": "3debbeeb-9c3c-4cb8-ef86-42927c334714"
      },
      "outputs": [],
      "source": [
        "#print index of df ['review rating'] where value is ' '\n",
        "\n",
        "import pandas as pd\n",
        "\n",
        "# Get the index of rows where 'review_rating' is empty\n",
        "empty_review_rating_indices = df[df['review_rating'] == ' '].index\n",
        "\n",
        "# Print the indices\n",
        "print(empty_review_rating_indices)\n"
      ]
    },
    {
      "cell_type": "code",
      "execution_count": null,
      "metadata": {
        "colab": {
          "base_uri": "https://localhost:8080/"
        },
        "id": "MSa4M26u7h3Z",
        "outputId": "4a1d1124-e19c-4e9e-912d-78357bf42add"
      },
      "outputs": [],
      "source": [
        "# prompt: print unique values of df['review rating']\n",
        "\n",
        "print(df['review_rating'].unique())\n"
      ]
    },
    {
      "cell_type": "code",
      "execution_count": null,
      "metadata": {
        "id": "vEFzXd0mI8Je"
      },
      "outputs": [],
      "source": [
        "# replace review_rating in df to positive if valueis 5 and 4\n",
        "\n",
        "df['review_rating'] = df['review_rating'].replace(5, 'positive')\n",
        "df['review_rating'] = df['review_rating'].replace(4, 'positive')\n",
        "df['review_rating'] = df['review_rating'].replace(2, 'negative')\n",
        "df['review_rating'] = df['review_rating'].replace(1, 'negative')"
      ]
    },
    {
      "cell_type": "code",
      "execution_count": null,
      "metadata": {
        "id": "dNYVPoirLOwF"
      },
      "outputs": [],
      "source": [
        "# handling review with rating 3\n",
        "\n",
        "#df[df['review_rating'] == 3]\n",
        "for index,line in df.iterrows():\n",
        "\n",
        "   if line['review_rating']:\n",
        "    if line['review_likes']>line['review_dislikes']:\n",
        "      df['review_rating'] = df['review_rating'].replace(3, 'positive')\n",
        "    elif line['review_likes']<line['review_dislikes']:\n",
        "      df['review_rating'] = df['review_rating'].replace(3, 'negative')\n",
        "    else:\n",
        "      df['review_rating'] = df['review_rating'].replace(3, 'positive')"
      ]
    },
    {
      "cell_type": "code",
      "execution_count": null,
      "metadata": {
        "colab": {
          "base_uri": "https://localhost:8080/"
        },
        "id": "U7jZPrHSMR56",
        "outputId": "c262fdb8-0b5d-4ac7-d2e2-f4eed8b1ac7d"
      },
      "outputs": [],
      "source": [
        "df['review_rating'].value_counts()"
      ]
    },
    {
      "cell_type": "code",
      "execution_count": null,
      "metadata": {
        "colab": {
          "base_uri": "https://localhost:8080/",
          "height": 472
        },
        "id": "mBz2dCpF6LOB",
        "outputId": "296a3c5c-5431-4b4d-b434-2088fc8cf511"
      },
      "outputs": [
        {
          "data": {
            "image/png": "[encoded data removed]",
            "text/plain": [
              "<Figure size 640x480 with 1 Axes>"
            ]
          },
          "metadata": {},
          "output_type": "display_data"
        }
      ],
      "source": [
        "# prompt: plot a graph based on unique values of rating\n",
        "\n",
        "import matplotlib.pyplot as plt\n",
        "\n",
        "# Get the number of occurrences for each unique rating\n",
        "rating_counts = df['review_rating'].value_counts()\n",
        "\n",
        "# Create a bar chart\n",
        "plt.bar(rating_counts.index, rating_counts.values)\n",
        "plt.xlabel(\"Rating\")\n",
        "plt.ylabel(\"Count\")\n",
        "plt.title(\"Number of Reviews for Each Rating\")\n",
        "plt.show()\n"
      ]
    },
    {
      "cell_type": "code",
      "execution_count": null,
      "metadata": {
        "colab": {
          "base_uri": "https://localhost:8080/"
        },
        "id": "SCh0anHyXvsR",
        "outputId": "2f065667-9a7c-466e-a958-a8712443c42f"
      },
      "outputs": [],
      "source": [
        "df['review_dislikes'].value_counts()"
      ]
    },
    {
      "cell_type": "code",
      "execution_count": null,
      "metadata": {
        "colab": {
          "base_uri": "https://localhost:8080/"
        },
        "id": "p7qKNIckXA_a",
        "outputId": "2daa022b-c037-4a6d-eb94-a8c855f4bc37"
      },
      "outputs": [],
      "source": [
        "df['review_likes'].value_counts()"
      ]
    },
    {
      "cell_type": "code",
      "execution_count": null,
      "metadata": {
        "colab": {
          "base_uri": "https://localhost:8080/",
          "height": 35
        },
        "id": "M80RAY2rW7JB",
        "outputId": "740d3f80-b0e2-41c8-f3a3-8e2fbafe5f2f"
      },
      "outputs": [],
      "source": [
        "df['review_rating'][24]"
      ]
    },
    {
      "cell_type": "code",
      "execution_count": null,
      "metadata": {
        "colab": {
          "base_uri": "https://localhost:8080/"
        },
        "id": "19cBW96nUe2b",
        "outputId": "c37b0604-bef5-43f9-bbdc-4158d53581c0"
      },
      "outputs": [],
      "source": [
        "df.isnull().sum()"
      ]
    },
    {
      "cell_type": "code",
      "execution_count": null,
      "metadata": {
        "colab": {
          "base_uri": "https://localhost:8080/"
        },
        "id": "usB-r7yWQQ1g",
        "outputId": "cbd734f5-9e58-456c-835e-be6d552fa4b9"
      },
      "outputs": [],
      "source": [
        "df1.isnull().sum()"
      ]
    },
    {
      "cell_type": "markdown",
      "metadata": {
        "id": "qXb8_kl_ffs_"
      },
      "source": [
        "#Data Cleaning"
      ]
    },
    {
      "cell_type": "code",
      "execution_count": null,
      "metadata": {
        "colab": {
          "base_uri": "https://localhost:8080/"
        },
        "id": "jW3lSZrFG_pu",
        "outputId": "7ee1d697-cdbc-4d90-d37b-26b7b0fecbc6"
      },
      "outputs": [],
      "source": [
        "import nltk\n",
        "from nltk.corpus import stopwords\n",
        "from string import punctuation\n",
        "nltk.download('punkt')\n",
        "nltk.download('stopwords')"
      ]
    },
    {
      "cell_type": "code",
      "execution_count": null,
      "metadata": {
        "id": "NXGl1D8NRqp9"
      },
      "outputs": [],
      "source": [
        "import re"
      ]
    },
    {
      "cell_type": "code",
      "execution_count": null,
      "metadata": {
        "colab": {
          "base_uri": "https://localhost:8080/"
        },
        "id": "DTFgTDAEHahF",
        "outputId": "2af0226f-9bad-4abd-d601-6507b70cec8c"
      },
      "outputs": [],
      "source": [
        "\n",
        "def clean_text(text):\n",
        "\n",
        "  text = text.lower()\n",
        "  # Tokenize the text (split into words)\n",
        "  text = re.sub(r'\\.{2,}', '.', text)\n",
        "  tokens = nltk.word_tokenize(text)\n",
        "\n",
        "  # Remove stop words\n",
        "  stop_words = stopwords.words('english')\n",
        "  tokens = [word for word in tokens if word not in stop_words]\n",
        "\n",
        "  # Remove numbers\n",
        "  tokens = [word for word in tokens if not word.isdigit()]\n",
        "\n",
        "  # Remove punctuation\n",
        "  tokens = [word for word in tokens if word not in punctuation]\n",
        "\n",
        "  # Remove POS tags (if needed)\n",
        "  # Uncomment the following lines if you want to remove POS tags (requires NLTK pos_tag)\n",
        "  # nltk.download('averaged_perceptron_tagger')\n",
        "  # pos_tagged_tokens = nltk.pos_tag(tokens)\n",
        "  # tokens = [word for word, pos in pos_tagged_tokens if pos not in ['NN', 'VB', 'JJ', 'RB', ...]]  # Add relevant POS tags to remove\n",
        "\n",
        "  # Return the cleaned list of words\n",
        "  return tokens\n",
        "\n",
        "def clean_dataset(data, text_column_name):\n",
        "\n",
        "  # Apply clean_text function to the text column and store in a new column\n",
        "  data[\"cleaned_text\"] = data[text_column_name].apply(clean_text)\n",
        "\n",
        "  # Return the DataFrame with the new cleaned text column\n",
        "  return data\n",
        "\n",
        "# Assuming your dataset is loaded into a pandas DataFrame called \"df\"\n",
        "cleaned_df = clean_dataset(df.copy(), \"text\")  # Replace \"text_column_name\" with your actual column name\n",
        "\n",
        "# Now you have the cleaned dataset in \"cleaned_df\"\n",
        "print(cleaned_df)\n"
      ]
    },
    {
      "cell_type": "code",
      "execution_count": null,
      "metadata": {
        "id": "GvtA1-jRIsHI"
      },
      "outputs": [],
      "source": [
        "replacements = {'Positive': 4, 'Negative': 1, 'Negative': 2,'Positive': 5, 'Positive': 3,}"
      ]
    },
    {
      "cell_type": "code",
      "execution_count": null,
      "metadata": {
        "colab": {
          "base_uri": "https://localhost:8080/",
          "height": 1000
        },
        "id": "8pV32LFGJuI0",
        "outputId": "bc2d8d2c-0050-40c6-932d-b4677540c9ce"
      },
      "outputs": [],
      "source": [
        "# prompt: show all data with df1['rating'] is 3\n",
        "\n",
        "df[df['review_rating'] == 3]\n"
      ]
    },
    {
      "cell_type": "code",
      "execution_count": null,
      "metadata": {
        "colab": {
          "base_uri": "https://localhost:8080/",
          "height": 1000
        },
        "id": "bsLYAXtMVS0r",
        "outputId": "cd7c6a84-63d2-4b40-b721-37bc63235e19"
      },
      "outputs": [],
      "source": [
        "cleaned_df"
      ]
    },
    {
      "cell_type": "code",
      "execution_count": null,
      "metadata": {
        "id": "LFzirlEvNFmw"
      },
      "outputs": [],
      "source": [
        "df1=pd.DataFrame()\n",
        "df1['product_id']=df['product_id']\n",
        "df1['product_url']=df['product_url']\n",
        "df1['text']=cleaned_df['text']\n",
        "df1['cleaned_text']=cleaned_df['cleaned_text']\n",
        "df1['review_date']=df['review_date']"
      ]
    },
    {
      "cell_type": "code",
      "execution_count": null,
      "metadata": {
        "colab": {
          "base_uri": "https://localhost:8080/"
        },
        "id": "VsYNECIaNs4r",
        "outputId": "29b4e93d-6f11-4cb6-809f-4de2a9865819"
      },
      "outputs": [],
      "source": [
        "df1.isnull().sum()"
      ]
    },
    {
      "cell_type": "code",
      "execution_count": null,
      "metadata": {
        "id": "G3AumYjaOLkO"
      },
      "outputs": [],
      "source": [
        "df1=clean_dataset(df1, \"text\")"
      ]
    },
    {
      "cell_type": "code",
      "execution_count": null,
      "metadata": {
        "colab": {
          "base_uri": "https://localhost:8080/",
          "height": 1000
        },
        "id": "iQ-Q6h7xOtgU",
        "outputId": "8ed617c9-21e8-4a15-df22-92b3d72f9c01"
      },
      "outputs": [],
      "source": [
        "df"
      ]
    },
    {
      "cell_type": "code",
      "execution_count": null,
      "metadata": {
        "id": "FkppuBGUQoXp"
      },
      "outputs": [],
      "source": [
        "\n",
        "def clean_text(text):\n",
        "\n",
        "\n",
        "  # Convert text to lowercase\n",
        "  text = text.lower()\n",
        "\n",
        "  # Remove repeated periods using regular expressions\n",
        "  text = re.sub(r'\\.{2,}', '.', text)  # Replace two or more consecutive periods with a single period\n",
        "\n",
        "  # Tokenize the text (split into words)\n",
        "  tokens = nltk.word_tokenize(text)\n",
        "\n",
        "  # ... (rest of the cleaning process remains the same)\n",
        "\n",
        "# ... (rest of the code for clean_dataset function and usage remains the same)\n"
      ]
    },
    {
      "cell_type": "code",
      "execution_count": null,
      "metadata": {
        "colab": {
          "base_uri": "https://localhost:8080/",
          "height": 53
        },
        "id": "qTGBs2-DWiS_",
        "outputId": "a661b9ac-da2b-463a-faf1-55b602a3bd80"
      },
      "outputs": [
        {
          "data": {
            "application/vnd.google.colaboratory.intrinsic+json": {
              "repr_error": "Out of range float values are not JSON compliant: nan",
              "type": "dataframe"
            },
            "text/html": [
              "\n",
              "  <div id=\"df-2d357939-38e4-4c0e-a640-218b75959d72\" class=\"colab-df-container\">\n",
              "    <div>\n",
              "<style scoped>\n",
              "    .dataframe tbody tr th:only-of-type {\n",
              "        vertical-align: middle;\n",
              "    }\n",
              "\n",
              "    .dataframe tbody tr th {\n",
              "        vertical-align: top;\n",
              "    }\n",
              "\n",
              "    .dataframe thead th {\n",
              "        text-align: right;\n",
              "    }\n",
              "</style>\n",
              "<table border=\"1\" class=\"dataframe\">\n",
              "  <thead>\n",
              "    <tr style=\"text-align: right;\">\n",
              "      <th></th>\n",
              "      <th>product_id</th>\n",
              "      <th>product_url</th>\n",
              "      <th>text</th>\n",
              "      <th>cleaned_text</th>\n",
              "      <th>review_date</th>\n",
              "    </tr>\n",
              "  </thead>\n",
              "  <tbody>\n",
              "  </tbody>\n",
              "</table>\n",
              "</div>\n",
              "    <div class=\"colab-df-buttons\">\n",
              "\n",
              "  <div class=\"colab-df-container\">\n",
              "    <button class=\"colab-df-convert\" onclick=\"convertToInteractive('df-2d357939-38e4-4c0e-a640-218b75959d72')\"\n",
              "            title=\"Convert this dataframe to an interactive table.\"\n",
              "            style=\"display:none;\">\n",
              "\n",
              "  <svg xmlns=\"http://www.w3.org/2000/svg\" height=\"24px\" viewBox=\"0 -960 960 960\">\n",
              "    <path d=\"M120-120v-720h720v720H120Zm60-500h600v-160H180v160Zm220 220h160v-160H400v160Zm0 220h160v-160H400v160ZM180-400h160v-160H180v160Zm440 0h160v-160H620v160ZM180-180h160v-160H180v160Zm440 0h160v-160H620v160Z\"/>\n",
              "  </svg>\n",
              "    </button>\n",
              "\n",
              "  <style>\n",
              "    .colab-df-container {\n",
              "      display:flex;\n",
              "      gap: 12px;\n",
              "    }\n",
              "\n",
              "    .colab-df-convert {\n",
              "      background-color: #E8F0FE;\n",
              "      border: none;\n",
              "      border-radius: 50%;\n",
              "      cursor: pointer;\n",
              "      display: none;\n",
              "      fill: #1967D2;\n",
              "      height: 32px;\n",
              "      padding: 0 0 0 0;\n",
              "      width: 32px;\n",
              "    }\n",
              "\n",
              "    .colab-df-convert:hover {\n",
              "      background-color: #E2EBFA;\n",
              "      box-shadow: 0px 1px 2px rgba(60, 64, 67, 0.3), 0px 1px 3px 1px rgba(60, 64, 67, 0.15);\n",
              "      fill: #174EA6;\n",
              "    }\n",
              "\n",
              "    .colab-df-buttons div {\n",
              "      margin-bottom: 4px;\n",
              "    }\n",
              "\n",
              "    [theme=dark] .colab-df-convert {\n",
              "      background-color: #3B4455;\n",
              "      fill: #D2E3FC;\n",
              "    }\n",
              "\n",
              "    [theme=dark] .colab-df-convert:hover {\n",
              "      background-color: #434B5C;\n",
              "      box-shadow: 0px 1px 3px 1px rgba(0, 0, 0, 0.15);\n",
              "      filter: drop-shadow(0px 1px 2px rgba(0, 0, 0, 0.3));\n",
              "      fill: #FFFFFF;\n",
              "    }\n",
              "  </style>\n",
              "\n",
              "    <script>\n",
              "      const buttonEl =\n",
              "        document.querySelector('#df-2d357939-38e4-4c0e-a640-218b75959d72 button.colab-df-convert');\n",
              "      buttonEl.style.display =\n",
              "        google.colab.kernel.accessAllowed ? 'block' : 'none';\n",
              "\n",
              "      async function convertToInteractive(key) {\n",
              "        const element = document.querySelector('#df-2d357939-38e4-4c0e-a640-218b75959d72');\n",
              "        const dataTable =\n",
              "          await google.colab.kernel.invokeFunction('convertToInteractive',\n",
              "                                                    [key], {});\n",
              "        if (!dataTable) return;\n",
              "\n",
              "        const docLinkHtml = 'Like what you see? Visit the ' +\n",
              "          '<a target=\"_blank\" href=https://colab.research.google.com/notebooks/data_table.ipynb>data table notebook</a>'\n",
              "          + ' to learn more about interactive tables.';\n",
              "        element.innerHTML = '';\n",
              "        dataTable['output_type'] = 'display_data';\n",
              "        await google.colab.output.renderOutput(dataTable, element);\n",
              "        const docLink = document.createElement('div');\n",
              "        docLink.innerHTML = docLinkHtml;\n",
              "        element.appendChild(docLink);\n",
              "      }\n",
              "    </script>\n",
              "  </div>\n",
              "\n",
              "\n",
              "    </div>\n",
              "  </div>\n"
            ],
            "text/plain": [
              "Empty DataFrame\n",
              "Columns: [product_id, product_url, text, cleaned_text, review_date]\n",
              "Index: []"
            ]
          },
          "execution_count": 26,
          "metadata": {},
          "output_type": "execute_result"
        }
      ],
      "source": [
        "df1[df1['text'] == 'nan nan']#displaying  nan values"
      ]
    },
    {
      "cell_type": "code",
      "execution_count": null,
      "metadata": {
        "id": "lD9RHgw7V0wQ"
      },
      "outputs": [],
      "source": [
        "# checking for string 'nan nan' value in df1 in text and drop\n",
        "\n",
        "df1 = df1[df1['text'] != 'nan nan']\n"
      ]
    },
    {
      "cell_type": "code",
      "execution_count": null,
      "metadata": {
        "colab": {
          "base_uri": "https://localhost:8080/",
          "height": 1000
        },
        "id": "9Paml0bxQuTP",
        "outputId": "4dd54b1c-d9c4-44c6-c7b5-bf7d9cb12171"
      },
      "outputs": [],
      "source": [
        "df1"
      ]
    },
    {
      "cell_type": "code",
      "execution_count": null,
      "metadata": {
        "id": "ZxZJiWyuXGNw"
      },
      "outputs": [],
      "source": [
        "# reset index of df1\n",
        "\n",
        "df1.reset_index(drop=True, inplace=True)\n"
      ]
    },
    {
      "cell_type": "code",
      "execution_count": null,
      "metadata": {
        "colab": {
          "base_uri": "https://localhost:8080/",
          "height": 1000
        },
        "id": "I9YNJc_dXLTu",
        "outputId": "2f0cc9b7-ea51-4aa1-f16e-6885980704d0"
      },
      "outputs": [],
      "source": [
        "df1"
      ]
    },
    {
      "cell_type": "code",
      "execution_count": null,
      "metadata": {
        "id": "dWGYk8hONyso"
      },
      "outputs": [],
      "source": [
        "#download the df1 as csv\n",
        "\n",
        "df1.to_csv('techfinaldoc.csv', index=False)\n"
      ]
    }
  ],
  "metadata": {
    "accelerator": "GPU",
    "colab": {
      "gpuType": "T4",
      "provenance": []
    },
    "kernelspec": {
      "display_name": "Python 3",
      "name": "python3"
    },
    "language_info": {
      "name": "python"
    }
  },
  "nbformat": 4,
  "nbformat_minor": 0
}
