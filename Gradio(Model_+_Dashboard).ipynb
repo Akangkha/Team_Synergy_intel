{
  "cells": [
    {
      "cell_type": "markdown",
      "metadata": {
        "id": "view-in-github",
        "colab_type": "text"
      },
      "source": [
        "<a href=\"https://colab.research.google.com/github/gatetub/Team-Synergy-Intel/blob/main/Gradio_Model_%2B_Dashboard.ipynb\" target=\"_parent\"><img src=\"https://colab.research.google.com/assets/colab-badge.svg\" alt=\"Open In Colab\"/></a>"
      ]
    },
    {
      "cell_type": "markdown",
      "metadata": {
        "id": "r3VVRScP99Wa"
      },
      "source": [
        "# **Initialisation**\n"
      ]
    },
    {
      "cell_type": "markdown",
      "metadata": {
        "id": "WN-xASqZ9DOw"
      },
      "source": [
        "# **Pre-requisite:**\n",
        "\n",
        "*   Gemini Token\n",
        "*   Two csv files for respective category and their paths in content of collab"
      ]
    },
    {
      "cell_type": "code",
      "execution_count": null,
      "metadata": {
        "collapsed": true,
        "id": "Nbm-VX1q-F2H"
      },
      "outputs": [],
      "source": [
        "!pip install gradio\n",
        "!pip install -q -U google-generativeai"
      ]
    },
    {
      "cell_type": "code",
      "execution_count": 18,
      "metadata": {
        "id": "WtN7PVB7-iV6"
      },
      "outputs": [],
      "source": [
        "import json\n",
        "import pandas as pd"
      ]
    },
    {
      "cell_type": "code",
      "execution_count": 19,
      "metadata": {
        "id": "g5txvN33-NQZ"
      },
      "outputs": [],
      "source": [
        "df=pd.read_csv(\"/content/tech_reviews.csv\")    # run this to analyse technical reviews' sentiment"
      ]
    },
    {
      "cell_type": "code",
      "source": [
        "df=pd.read_csv(\"/content/reviews_user.csv\")  # run this to analyse user reviews' sentiment"
      ],
      "metadata": {
        "id": "HNzjWPMErRPb"
      },
      "execution_count": 31,
      "outputs": []
    },
    {
      "cell_type": "code",
      "execution_count": null,
      "metadata": {
        "collapsed": true,
        "id": "Diub04hc8gTA"
      },
      "outputs": [],
      "source": [
        "df"
      ]
    },
    {
      "cell_type": "code",
      "execution_count": 33,
      "metadata": {
        "id": "v_TfIcYh-Qaz"
      },
      "outputs": [],
      "source": [
        "\n",
        "product_names = df['product_name'].unique()\n",
        "\n",
        "data_sets = {}\n",
        "for product_name in product_names:\n",
        "\n",
        "  data_sets[product_name] = df[df['product_name'] == product_name]\n"
      ]
    },
    {
      "cell_type": "code",
      "execution_count": null,
      "metadata": {
        "id": "QWgizkqCXIN8"
      },
      "outputs": [],
      "source": [
        "product_names"
      ]
    },
    {
      "cell_type": "markdown",
      "metadata": {
        "id": "Kuuc59ut48gL"
      },
      "source": [
        "# Gemini Model"
      ]
    },
    {
      "cell_type": "code",
      "execution_count": 35,
      "metadata": {
        "id": "d2GF5OJO48C8"
      },
      "outputs": [],
      "source": [
        "import google.generativeai as genai\n",
        "import json\n",
        "from google.colab import userdata\n",
        "\n",
        "GOOGLE_API_KEY=userdata.get('GEMINI_TOKEN')  # give your gemini access key as GEMINI_TOKEN in collab secrets\n",
        "genai.configure(api_key=GOOGLE_API_KEY)\n",
        "\n",
        "model = genai.GenerativeModel('gemini-1.5-flash')\n",
        "# model = genai.GenerativeModel('gemini-1.5-pro')"
      ]
    },
    {
      "cell_type": "code",
      "execution_count": 36,
      "metadata": {
        "id": "YiRprEzo5BIi"
      },
      "outputs": [],
      "source": [
        "def call_gemini(text):\n",
        "  response = model.generate_content(text)\n",
        "  return response.text"
      ]
    },
    {
      "cell_type": "code",
      "execution_count": 37,
      "metadata": {
        "id": "cqk04AEI5CXI"
      },
      "outputs": [],
      "source": [
        "def data(text1):\n",
        "  text_column_values = data_sets[text1]['text'].tolist()\n",
        "  single_string = ' '.join(text_column_values)\n",
        "  review_rating_map = {}\n",
        "\n",
        "# Iterate through each row in the DataFrame\n",
        "  for index, row in df.iterrows():\n",
        "  # Get the review date and rating\n",
        "    review_date = row[\"review_date\"]\n",
        "    review_rating = row[\"review_rating\"]\n",
        "\n",
        "  # Add the mapping to the dictionary\n",
        "    review_rating_map[review_date] = review_rating\n",
        "\n",
        "  jsonl_data = [json.dumps({\"review_date\": k, \"review_rating\": v}) for k, v in review_rating_map.items()]\n",
        "\n",
        "# Write the JSONL data to a file\n",
        "  with open(\"review_ratings.jsonl\", \"w\") as f:\n",
        "      for line in jsonl_data:\n",
        "        f.write(line + \"\\n\")\n",
        "\n",
        "  prompt = f\"\"\"\n",
        "    You are a sentiment analysis expert tasked with analyzing customer reviews to track trends in positive and negative sentiment over the years. The goal is to gain insights about customer perception of the processor over time.\n",
        "    only provide me your output do not show any code .Customer reviews are provided between three backticks below.\n",
        "    ```\n",
        "    {jsonl_data}\n",
        "    ```\n",
        "    \"\"\"\n",
        "  print(jsonl_data)\n",
        "  gem_data = call_gemini(prompt)\n",
        "\n",
        "  return gem_data"
      ]
    },
    {
      "cell_type": "markdown",
      "metadata": {
        "id": "B3g2UGghlDYI"
      },
      "source": [
        "# **Web Interface**\n",
        "\n",
        "1.   User Reviews\n",
        "2.   Technical Reviews\n",
        "\n",
        "\n"
      ]
    },
    {
      "cell_type": "markdown",
      "metadata": {
        "id": "qOUqGVm7bx6G"
      },
      "source": [
        "**Common functions for user and technical reviews**"
      ]
    },
    {
      "cell_type": "code",
      "execution_count": 38,
      "metadata": {
        "id": "ELaKmFWf4-BY"
      },
      "outputs": [],
      "source": [
        "import pandas as pd\n",
        "\n",
        "\n",
        "product_names_list = product_names.tolist()\n",
        "def get_all_data(product_name):\n",
        "    filtered_df = df[df['product_name'] == product_name]\n",
        "    if not filtered_df.empty:\n",
        "        texts = filtered_df['text'].tolist()\n",
        "        cleaned_texts = filtered_df['cleaned_text'].tolist()\n",
        "        review_ratings = filtered_df['review_rating'].tolist()\n",
        "        return texts, cleaned_texts, review_ratings\n",
        "    else:\n",
        "        return [\"Product not found.\"], [\"Product not found.\"], [\"Product not found.\"]\n"
      ]
    },
    {
      "cell_type": "code",
      "execution_count": 39,
      "metadata": {
        "id": "u2MhZ39gbDmf"
      },
      "outputs": [],
      "source": [
        "def display_table(product_name):\n",
        "    texts, cleaned_texts, review_ratings = get_all_data(product_name)\n",
        "\n",
        "    if texts == [\"Product not found.\"]:\n",
        "        table = \"<p>Product not found.</p>\"\n",
        "    else:\n",
        "        table = \"<table><tr><th>Review</th><th>Sentiment Indicators</th><th>Review Type</th></tr>\"\n",
        "        for text, cleaned_text, rating in zip(texts, cleaned_texts, review_ratings):\n",
        "            table += f\"<tr><td>{text}</td><td>{cleaned_text}</td><td>{rating}</td></tr>\"\n",
        "        table += \"</table>\"\n",
        "\n",
        "    return table"
      ]
    },
    {
      "cell_type": "markdown",
      "metadata": {
        "id": "KBZ3-niFa91s"
      },
      "source": [
        "# **User Review Visualisation**"
      ]
    },
    {
      "cell_type": "code",
      "execution_count": null,
      "metadata": {
        "collapsed": true,
        "id": "eapJ9zxtxrer"
      },
      "outputs": [],
      "source": [
        "import gradio as gr\n",
        "\n",
        "iframe_html = \"\"\"\n",
        "<iframe title=\"product_power_bi_dashboard\" width=\"100%\" height=\"273.5\"\n",
        "src=\"https://app.powerbi.com/view?r=eyJrIjoiN2VjNzY0NjEtYTc1Ny00MTk2LWIxNzUtNzM3M2NiNjlmMzNlIiwidCI6Ijg0YzMxY2EwLWFjM2ItNGVhZS1hZDExLTUxOWQ4MDIzM2U2ZiIsImMiOjZ9\"\n",
        "frameborder=\"0\" allowFullScreen=\"true\"></iframe>\n",
        "\"\"\"\n",
        "\n",
        "iframe_html1 = \"\"\"\n",
        "<iframe title=\"v3_updated\" width=\"100%\" height=\"273.5\" src=\"https://app.powerbi.com/view?r=eyJrIjoiMmQ0ZGM4YzQtOTNmNi00NDRmLWE1Y2UtOTQ5ZjVlMTMxODNjIiwidCI6Ijg0YzMxY2EwLWFjM2ItNGVhZS1hZDExLTUxOWQ4MDIzM2U2ZiIsImMiOjZ9\" frameborder=\"0\" allowFullScreen=\"true\"></iframe>\n",
        "\"\"\"\n",
        "\n",
        "with gr.Blocks() as demo:\n",
        "    gr.Markdown(\"# Intel Products Sentiment Analysis from Online User Reviews\")\n",
        "\n",
        "    with gr.Row():\n",
        "        with gr.Column(scale=1):\n",
        "            gr.Markdown(\"### Insights on User reviews collected \")\n",
        "            gr.HTML(iframe_html)\n",
        "        with gr.Column(scale=1):\n",
        "            gr.Markdown(\"### Sentiment Analysis on User Review\")\n",
        "            gr.HTML(iframe_html1)\n",
        "\n",
        "    with gr.Row():\n",
        "        with gr.Column(scale=1):\n",
        "            product_dropdown = gr.Dropdown(choices=product_names_list, label=\"Select Product\")\n",
        "        with gr.Column(scale=1):\n",
        "            product_output = gr.Textbox(label=\"Output using Gemini Model\", interactive=False)\n",
        "\n",
        "        product_dropdown.change(\n",
        "            fn=data,\n",
        "            inputs=product_dropdown,\n",
        "            outputs=product_output,\n",
        "        )\n",
        "\n",
        "\n",
        "    with gr.Row():\n",
        "        with gr.Column(scale=1):\n",
        "            table_output = gr.HTML()\n",
        "            product_dropdown.change(\n",
        "                fn=display_table,\n",
        "                inputs=product_dropdown,\n",
        "                outputs=table_output,\n",
        "            )\n",
        "\n",
        "demo.launch(share=True, debug=True)"
      ]
    },
    {
      "cell_type": "markdown",
      "metadata": {
        "id": "Q80iSwDbZ15s"
      },
      "source": [
        "# **Technical Review Visualisation And Model Prediction**"
      ]
    },
    {
      "cell_type": "code",
      "execution_count": 28,
      "metadata": {
        "id": "Pfpcsm2yZoiW"
      },
      "outputs": [],
      "source": [
        "def dummy_function(text1):\n",
        "  text_column_values = data_sets[text1]['text'].tolist()\n",
        "  single_string = ' '.join(text_column_values)\n",
        "  review_rating_map = {}\n",
        "\n",
        "# Iterate through each row in the DataFrame\n",
        "  for index, row in df.iterrows():\n",
        "  # Get the review date and rating\n",
        "    review_date = row[\"review_date\"]\n",
        "    review_rating = row[\"text\"]\n",
        "\n",
        "  # Add the mapping to the dictionary\n",
        "    review_rating_map[review_date] = review_rating\n",
        "\n",
        "  jsonl_data = [json.dumps({\"review_date\": k, \"review_rating\": v}) for k, v in review_rating_map.items()]\n",
        "\n",
        "# Write the JSONL data to a file\n",
        "  with open(\"review_ratings.jsonl\", \"w\") as f:\n",
        "      for line in jsonl_data:\n",
        "        f.write(line + \"\\n\")\n",
        "\n",
        "  prompt = f\"\"\"\n",
        "    You are a sentiment analysis expert tasked with analyzing customer reviews to track the technical specifiaction and its performance over the years. The goal is to gain insights about customer perception of the processor over time.\n",
        "    only provide me your output do not show any code .Customer reviews are provided between three backticks below.\n",
        "    ```\n",
        "    {jsonl_data}\n",
        "    ```\n",
        "    \"\"\"\n",
        "  print(jsonl_data)\n",
        "  gem_data1 =call_gemini(prompt)\n",
        "\n",
        "  return gem_data1"
      ]
    },
    {
      "cell_type": "code",
      "execution_count": null,
      "metadata": {
        "collapsed": true,
        "id": "gjthniiTQaiR"
      },
      "outputs": [],
      "source": [
        "import gradio as gr\n",
        "\n",
        "# Gradio interface\n",
        "with gr.Blocks() as demo:\n",
        "    gr.Markdown(\"# Intel Products Sentiment Analysis from Online Technical Reviews\")\n",
        "    gr.Markdown(\"### Sentiment Analysis on Technical Reviews\")\n",
        "\n",
        "    with gr.Row():\n",
        "        with gr.Column(scale=1):\n",
        "            product_dropdown = gr.Dropdown(choices=product_names_list, label=\"Select Product\")\n",
        "        with gr.Column(scale=1):\n",
        "            iframe_html3 = \"\"\"\n",
        "            <iframe title=\"tech_reviews_v3_final\" width=\"600\" height=\"273.5\" src=\"https://app.powerbi.com/view?r=eyJrIjoiZmY5MThiMTktY2UzNi00OWI4LWI2M2QtZjczNjcwNGU3MmM4IiwidCI6Ijg0YzMxY2EwLWFjM2ItNGVhZS1hZDExLTUxOWQ4MDIzM2U2ZiIsImMiOjZ9\" frameborder=\"0\" allowFullScreen=\"true\"></iframe>\n",
        "            \"\"\"\n",
        "            gr.HTML(iframe_html3)\n",
        "\n",
        "\n",
        "    with gr.Row():\n",
        "        with gr.Column(scale=1):\n",
        "            dummy_output = gr.Textbox(label=\"Technical Insights\", interactive=False)\n",
        "        with gr.Column(scale=1):\n",
        "            product_output = gr.Textbox(label=\"Output using Gemini Model\", interactive=False)\n",
        "\n",
        "        product_dropdown.change(\n",
        "            fn=dummy_function,\n",
        "            inputs=product_dropdown,\n",
        "            outputs=dummy_output\n",
        "        )\n",
        "\n",
        "        product_dropdown.change(\n",
        "            fn=data,\n",
        "            inputs=product_dropdown,\n",
        "            outputs=product_output\n",
        "        )\n",
        "\n",
        "    with gr.Row():\n",
        "        table_output = gr.HTML(label=\"Product Reviews and Cleaned Texts\")\n",
        "\n",
        "    product_dropdown.change(\n",
        "        fn=display_table,\n",
        "        inputs=product_dropdown,\n",
        "        outputs=table_output\n",
        "    )\n",
        "\n",
        "demo.launch(share=True, debug=True)\n"
      ]
    }
  ],
  "metadata": {
    "accelerator": "GPU",
    "colab": {
      "gpuType": "T4",
      "provenance": [],
      "include_colab_link": true
    },
    "kernelspec": {
      "display_name": "Python 3",
      "name": "python3"
    },
    "language_info": {
      "name": "python"
    }
  },
  "nbformat": 4,
  "nbformat_minor": 0
}
